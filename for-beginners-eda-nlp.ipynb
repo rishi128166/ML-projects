{
 "cells": [
  {
   "cell_type": "code",
   "execution_count": 1,
   "id": "02a8d063",
   "metadata": {
    "execution": {
     "iopub.execute_input": "2022-08-06T04:10:39.032259Z",
     "iopub.status.busy": "2022-08-06T04:10:39.031786Z",
     "iopub.status.idle": "2022-08-06T04:10:40.420010Z",
     "shell.execute_reply": "2022-08-06T04:10:40.418765Z"
    },
    "papermill": {
     "duration": 1.40126,
     "end_time": "2022-08-06T04:10:40.423090",
     "exception": false,
     "start_time": "2022-08-06T04:10:39.021830",
     "status": "completed"
    },
    "tags": []
   },
   "outputs": [],
   "source": [
    "import pandas as pd\n",
    "import seaborn as sns\n",
    "import numpy as np\n",
    "import matplotlib.pyplot as plt\n",
    "import collections        \n",
    "# This is used to store the data commonly known as data structure such as lists, tuples, arrays, dictionaries, etc\n",
    "\n",
    "import warnings\n",
    "warnings.filterwarnings('ignore')\n",
    "\n",
    "from sklearn.feature_extraction.text import CountVectorizer\n",
    "# It is used to transform a given text into a vector \n",
    "# -on the basis of the frequency (count) of each word that occurs in the entire text.-\n",
    "\n",
    "from sklearn.metrics.pairwise import cosine_similarity\n",
    "# Compute cosine similarity between samples in X and Y\n",
    "#  Pairwise -- This method provides a safe way to take a distance matrix as input,\n",
    "# --- while preserving compatibility with many other algorithms that take a vector array.---"
   ]
  },
  {
   "cell_type": "code",
   "execution_count": 2,
   "id": "73cd3507",
   "metadata": {
    "execution": {
     "iopub.execute_input": "2022-08-06T04:10:40.439269Z",
     "iopub.status.busy": "2022-08-06T04:10:40.438649Z",
     "iopub.status.idle": "2022-08-06T04:10:40.589928Z",
     "shell.execute_reply": "2022-08-06T04:10:40.588726Z"
    },
    "papermill": {
     "duration": 0.162652,
     "end_time": "2022-08-06T04:10:40.592846",
     "exception": false,
     "start_time": "2022-08-06T04:10:40.430194",
     "status": "completed"
    },
    "tags": []
   },
   "outputs": [
    {
     "data": {
      "text/html": [
       "<div>\n",
       "<style scoped>\n",
       "    .dataframe tbody tr th:only-of-type {\n",
       "        vertical-align: middle;\n",
       "    }\n",
       "\n",
       "    .dataframe tbody tr th {\n",
       "        vertical-align: top;\n",
       "    }\n",
       "\n",
       "    .dataframe thead th {\n",
       "        text-align: right;\n",
       "    }\n",
       "</style>\n",
       "<table border=\"1\" class=\"dataframe\">\n",
       "  <thead>\n",
       "    <tr style=\"text-align: right;\">\n",
       "      <th></th>\n",
       "      <th>show_id</th>\n",
       "      <th>type</th>\n",
       "      <th>title</th>\n",
       "      <th>director</th>\n",
       "      <th>cast</th>\n",
       "      <th>country</th>\n",
       "      <th>date_added</th>\n",
       "      <th>release_year</th>\n",
       "      <th>rating</th>\n",
       "      <th>duration</th>\n",
       "      <th>listed_in</th>\n",
       "      <th>description</th>\n",
       "    </tr>\n",
       "  </thead>\n",
       "  <tbody>\n",
       "    <tr>\n",
       "      <th>0</th>\n",
       "      <td>s1</td>\n",
       "      <td>Movie</td>\n",
       "      <td>Dick Johnson Is Dead</td>\n",
       "      <td>Kirsten Johnson</td>\n",
       "      <td>NaN</td>\n",
       "      <td>United States</td>\n",
       "      <td>September 25, 2021</td>\n",
       "      <td>2020</td>\n",
       "      <td>PG-13</td>\n",
       "      <td>90 min</td>\n",
       "      <td>Documentaries</td>\n",
       "      <td>As her father nears the end of his life, filmm...</td>\n",
       "    </tr>\n",
       "    <tr>\n",
       "      <th>1</th>\n",
       "      <td>s2</td>\n",
       "      <td>TV Show</td>\n",
       "      <td>Blood &amp; Water</td>\n",
       "      <td>NaN</td>\n",
       "      <td>Ama Qamata, Khosi Ngema, Gail Mabalane, Thaban...</td>\n",
       "      <td>South Africa</td>\n",
       "      <td>September 24, 2021</td>\n",
       "      <td>2021</td>\n",
       "      <td>TV-MA</td>\n",
       "      <td>2 Seasons</td>\n",
       "      <td>International TV Shows, TV Dramas, TV Mysteries</td>\n",
       "      <td>After crossing paths at a party, a Cape Town t...</td>\n",
       "    </tr>\n",
       "    <tr>\n",
       "      <th>2</th>\n",
       "      <td>s3</td>\n",
       "      <td>TV Show</td>\n",
       "      <td>Ganglands</td>\n",
       "      <td>Julien Leclercq</td>\n",
       "      <td>Sami Bouajila, Tracy Gotoas, Samuel Jouy, Nabi...</td>\n",
       "      <td>NaN</td>\n",
       "      <td>September 24, 2021</td>\n",
       "      <td>2021</td>\n",
       "      <td>TV-MA</td>\n",
       "      <td>1 Season</td>\n",
       "      <td>Crime TV Shows, International TV Shows, TV Act...</td>\n",
       "      <td>To protect his family from a powerful drug lor...</td>\n",
       "    </tr>\n",
       "    <tr>\n",
       "      <th>3</th>\n",
       "      <td>s4</td>\n",
       "      <td>TV Show</td>\n",
       "      <td>Jailbirds New Orleans</td>\n",
       "      <td>NaN</td>\n",
       "      <td>NaN</td>\n",
       "      <td>NaN</td>\n",
       "      <td>September 24, 2021</td>\n",
       "      <td>2021</td>\n",
       "      <td>TV-MA</td>\n",
       "      <td>1 Season</td>\n",
       "      <td>Docuseries, Reality TV</td>\n",
       "      <td>Feuds, flirtations and toilet talk go down amo...</td>\n",
       "    </tr>\n",
       "    <tr>\n",
       "      <th>4</th>\n",
       "      <td>s5</td>\n",
       "      <td>TV Show</td>\n",
       "      <td>Kota Factory</td>\n",
       "      <td>NaN</td>\n",
       "      <td>Mayur More, Jitendra Kumar, Ranjan Raj, Alam K...</td>\n",
       "      <td>India</td>\n",
       "      <td>September 24, 2021</td>\n",
       "      <td>2021</td>\n",
       "      <td>TV-MA</td>\n",
       "      <td>2 Seasons</td>\n",
       "      <td>International TV Shows, Romantic TV Shows, TV ...</td>\n",
       "      <td>In a city of coaching centers known to train I...</td>\n",
       "    </tr>\n",
       "  </tbody>\n",
       "</table>\n",
       "</div>"
      ],
      "text/plain": [
       "  show_id     type                  title         director  \\\n",
       "0      s1    Movie   Dick Johnson Is Dead  Kirsten Johnson   \n",
       "1      s2  TV Show          Blood & Water              NaN   \n",
       "2      s3  TV Show              Ganglands  Julien Leclercq   \n",
       "3      s4  TV Show  Jailbirds New Orleans              NaN   \n",
       "4      s5  TV Show           Kota Factory              NaN   \n",
       "\n",
       "                                                cast        country  \\\n",
       "0                                                NaN  United States   \n",
       "1  Ama Qamata, Khosi Ngema, Gail Mabalane, Thaban...   South Africa   \n",
       "2  Sami Bouajila, Tracy Gotoas, Samuel Jouy, Nabi...            NaN   \n",
       "3                                                NaN            NaN   \n",
       "4  Mayur More, Jitendra Kumar, Ranjan Raj, Alam K...          India   \n",
       "\n",
       "           date_added  release_year rating   duration  \\\n",
       "0  September 25, 2021          2020  PG-13     90 min   \n",
       "1  September 24, 2021          2021  TV-MA  2 Seasons   \n",
       "2  September 24, 2021          2021  TV-MA   1 Season   \n",
       "3  September 24, 2021          2021  TV-MA   1 Season   \n",
       "4  September 24, 2021          2021  TV-MA  2 Seasons   \n",
       "\n",
       "                                           listed_in  \\\n",
       "0                                      Documentaries   \n",
       "1    International TV Shows, TV Dramas, TV Mysteries   \n",
       "2  Crime TV Shows, International TV Shows, TV Act...   \n",
       "3                             Docuseries, Reality TV   \n",
       "4  International TV Shows, Romantic TV Shows, TV ...   \n",
       "\n",
       "                                         description  \n",
       "0  As her father nears the end of his life, filmm...  \n",
       "1  After crossing paths at a party, a Cape Town t...  \n",
       "2  To protect his family from a powerful drug lor...  \n",
       "3  Feuds, flirtations and toilet talk go down amo...  \n",
       "4  In a city of coaching centers known to train I...  "
      ]
     },
     "execution_count": 2,
     "metadata": {},
     "output_type": "execute_result"
    }
   ],
   "source": [
    "df = pd.read_csv('../input/netflix-shows/netflix_titles.csv')\n",
    "df.head()"
   ]
  },
  {
   "cell_type": "code",
   "execution_count": 3,
   "id": "b93f76c4",
   "metadata": {
    "execution": {
     "iopub.execute_input": "2022-08-06T04:10:40.609482Z",
     "iopub.status.busy": "2022-08-06T04:10:40.608738Z",
     "iopub.status.idle": "2022-08-06T04:10:40.614897Z",
     "shell.execute_reply": "2022-08-06T04:10:40.613800Z"
    },
    "papermill": {
     "duration": 0.016837,
     "end_time": "2022-08-06T04:10:40.616958",
     "exception": false,
     "start_time": "2022-08-06T04:10:40.600121",
     "status": "completed"
    },
    "tags": []
   },
   "outputs": [
    {
     "data": {
      "text/plain": [
       "(8807, 12)"
      ]
     },
     "execution_count": 3,
     "metadata": {},
     "output_type": "execute_result"
    }
   ],
   "source": [
    "df.shape"
   ]
  },
  {
   "cell_type": "code",
   "execution_count": 4,
   "id": "ca47c89a",
   "metadata": {
    "execution": {
     "iopub.execute_input": "2022-08-06T04:10:40.633607Z",
     "iopub.status.busy": "2022-08-06T04:10:40.632929Z",
     "iopub.status.idle": "2022-08-06T04:10:40.666448Z",
     "shell.execute_reply": "2022-08-06T04:10:40.665115Z"
    },
    "papermill": {
     "duration": 0.044761,
     "end_time": "2022-08-06T04:10:40.669043",
     "exception": false,
     "start_time": "2022-08-06T04:10:40.624282",
     "status": "completed"
    },
    "tags": []
   },
   "outputs": [
    {
     "data": {
      "text/html": [
       "<div>\n",
       "<style scoped>\n",
       "    .dataframe tbody tr th:only-of-type {\n",
       "        vertical-align: middle;\n",
       "    }\n",
       "\n",
       "    .dataframe tbody tr th {\n",
       "        vertical-align: top;\n",
       "    }\n",
       "\n",
       "    .dataframe thead th {\n",
       "        text-align: right;\n",
       "    }\n",
       "</style>\n",
       "<table border=\"1\" class=\"dataframe\">\n",
       "  <thead>\n",
       "    <tr style=\"text-align: right;\">\n",
       "      <th></th>\n",
       "      <th>index</th>\n",
       "      <th>show_id</th>\n",
       "      <th>type</th>\n",
       "      <th>title</th>\n",
       "      <th>director</th>\n",
       "      <th>cast</th>\n",
       "      <th>country</th>\n",
       "      <th>date_added</th>\n",
       "      <th>release_year</th>\n",
       "      <th>rating</th>\n",
       "      <th>duration</th>\n",
       "      <th>listed_in</th>\n",
       "      <th>description</th>\n",
       "    </tr>\n",
       "  </thead>\n",
       "  <tbody>\n",
       "    <tr>\n",
       "      <th>0</th>\n",
       "      <td>0</td>\n",
       "      <td>s1</td>\n",
       "      <td>Movie</td>\n",
       "      <td>dick johnson is dead</td>\n",
       "      <td>Kirsten Johnson</td>\n",
       "      <td>NaN</td>\n",
       "      <td>United States</td>\n",
       "      <td>September 25, 2021</td>\n",
       "      <td>2020</td>\n",
       "      <td>PG-13</td>\n",
       "      <td>90 min</td>\n",
       "      <td>Documentaries</td>\n",
       "      <td>As her father nears the end of his life, filmm...</td>\n",
       "    </tr>\n",
       "    <tr>\n",
       "      <th>1</th>\n",
       "      <td>1</td>\n",
       "      <td>s7</td>\n",
       "      <td>Movie</td>\n",
       "      <td>my little pony: a new generation</td>\n",
       "      <td>Robert Cullen, José Luis Ucha</td>\n",
       "      <td>Vanessa Hudgens, Kimiko Glenn, James Marsden, ...</td>\n",
       "      <td>NaN</td>\n",
       "      <td>September 24, 2021</td>\n",
       "      <td>2021</td>\n",
       "      <td>PG</td>\n",
       "      <td>91 min</td>\n",
       "      <td>Children &amp; Family Movies</td>\n",
       "      <td>Equestria's divided. But a bright-eyed hero be...</td>\n",
       "    </tr>\n",
       "    <tr>\n",
       "      <th>2</th>\n",
       "      <td>2</td>\n",
       "      <td>s8</td>\n",
       "      <td>Movie</td>\n",
       "      <td>sankofa</td>\n",
       "      <td>Haile Gerima</td>\n",
       "      <td>Kofi Ghanaba, Oyafunmike Ogunlano, Alexandra D...</td>\n",
       "      <td>United States, Ghana, Burkina Faso, United Kin...</td>\n",
       "      <td>September 24, 2021</td>\n",
       "      <td>1993</td>\n",
       "      <td>TV-MA</td>\n",
       "      <td>125 min</td>\n",
       "      <td>Dramas, Independent Movies, International Movies</td>\n",
       "      <td>On a photo shoot in Ghana, an American model s...</td>\n",
       "    </tr>\n",
       "    <tr>\n",
       "      <th>3</th>\n",
       "      <td>3</td>\n",
       "      <td>s10</td>\n",
       "      <td>Movie</td>\n",
       "      <td>the starling</td>\n",
       "      <td>Theodore Melfi</td>\n",
       "      <td>Melissa McCarthy, Chris O'Dowd, Kevin Kline, T...</td>\n",
       "      <td>United States</td>\n",
       "      <td>September 24, 2021</td>\n",
       "      <td>2021</td>\n",
       "      <td>PG-13</td>\n",
       "      <td>104 min</td>\n",
       "      <td>Comedies, Dramas</td>\n",
       "      <td>A woman adjusting to life after a loss contend...</td>\n",
       "    </tr>\n",
       "    <tr>\n",
       "      <th>4</th>\n",
       "      <td>4</td>\n",
       "      <td>s13</td>\n",
       "      <td>Movie</td>\n",
       "      <td>je suis karl</td>\n",
       "      <td>Christian Schwochow</td>\n",
       "      <td>Luna Wedler, Jannis Niewöhner, Milan Peschel, ...</td>\n",
       "      <td>Germany, Czech Republic</td>\n",
       "      <td>September 23, 2021</td>\n",
       "      <td>2021</td>\n",
       "      <td>TV-MA</td>\n",
       "      <td>127 min</td>\n",
       "      <td>Dramas, International Movies</td>\n",
       "      <td>After most of her family is murdered in a terr...</td>\n",
       "    </tr>\n",
       "  </tbody>\n",
       "</table>\n",
       "</div>"
      ],
      "text/plain": [
       "   index show_id   type                             title  \\\n",
       "0      0      s1  Movie              dick johnson is dead   \n",
       "1      1      s7  Movie  my little pony: a new generation   \n",
       "2      2      s8  Movie                           sankofa   \n",
       "3      3     s10  Movie                      the starling   \n",
       "4      4     s13  Movie                      je suis karl   \n",
       "\n",
       "                        director  \\\n",
       "0                Kirsten Johnson   \n",
       "1  Robert Cullen, José Luis Ucha   \n",
       "2                   Haile Gerima   \n",
       "3                 Theodore Melfi   \n",
       "4            Christian Schwochow   \n",
       "\n",
       "                                                cast  \\\n",
       "0                                                NaN   \n",
       "1  Vanessa Hudgens, Kimiko Glenn, James Marsden, ...   \n",
       "2  Kofi Ghanaba, Oyafunmike Ogunlano, Alexandra D...   \n",
       "3  Melissa McCarthy, Chris O'Dowd, Kevin Kline, T...   \n",
       "4  Luna Wedler, Jannis Niewöhner, Milan Peschel, ...   \n",
       "\n",
       "                                             country          date_added  \\\n",
       "0                                      United States  September 25, 2021   \n",
       "1                                                NaN  September 24, 2021   \n",
       "2  United States, Ghana, Burkina Faso, United Kin...  September 24, 2021   \n",
       "3                                      United States  September 24, 2021   \n",
       "4                            Germany, Czech Republic  September 23, 2021   \n",
       "\n",
       "   release_year rating duration  \\\n",
       "0          2020  PG-13   90 min   \n",
       "1          2021     PG   91 min   \n",
       "2          1993  TV-MA  125 min   \n",
       "3          2021  PG-13  104 min   \n",
       "4          2021  TV-MA  127 min   \n",
       "\n",
       "                                          listed_in  \\\n",
       "0                                     Documentaries   \n",
       "1                          Children & Family Movies   \n",
       "2  Dramas, Independent Movies, International Movies   \n",
       "3                                  Comedies, Dramas   \n",
       "4                      Dramas, International Movies   \n",
       "\n",
       "                                         description  \n",
       "0  As her father nears the end of his life, filmm...  \n",
       "1  Equestria's divided. But a bright-eyed hero be...  \n",
       "2  On a photo shoot in Ghana, an American model s...  \n",
       "3  A woman adjusting to life after a loss contend...  \n",
       "4  After most of her family is murdered in a terr...  "
      ]
     },
     "execution_count": 4,
     "metadata": {},
     "output_type": "execute_result"
    }
   ],
   "source": [
    "df_movies = df[df['type']== 'Movie'].reset_index()  # We are doing this to filter movie data from dataset.\n",
    "df_movies.title = df_movies.title.str.lower() # we are using lower and str because it is a preprocessing part of NLP.\n",
    "df_movies['index'] = df_movies.index\n",
    "df_movies.head()"
   ]
  },
  {
   "cell_type": "code",
   "execution_count": 5,
   "id": "820f54de",
   "metadata": {
    "execution": {
     "iopub.execute_input": "2022-08-06T04:10:40.686496Z",
     "iopub.status.busy": "2022-08-06T04:10:40.686082Z",
     "iopub.status.idle": "2022-08-06T04:10:40.710339Z",
     "shell.execute_reply": "2022-08-06T04:10:40.709531Z"
    },
    "papermill": {
     "duration": 0.03568,
     "end_time": "2022-08-06T04:10:40.712585",
     "exception": false,
     "start_time": "2022-08-06T04:10:40.676905",
     "status": "completed"
    },
    "tags": []
   },
   "outputs": [
    {
     "data": {
      "text/html": [
       "<div>\n",
       "<style scoped>\n",
       "    .dataframe tbody tr th:only-of-type {\n",
       "        vertical-align: middle;\n",
       "    }\n",
       "\n",
       "    .dataframe tbody tr th {\n",
       "        vertical-align: top;\n",
       "    }\n",
       "\n",
       "    .dataframe thead th {\n",
       "        text-align: right;\n",
       "    }\n",
       "</style>\n",
       "<table border=\"1\" class=\"dataframe\">\n",
       "  <thead>\n",
       "    <tr style=\"text-align: right;\">\n",
       "      <th></th>\n",
       "      <th>index</th>\n",
       "      <th>show_id</th>\n",
       "      <th>type</th>\n",
       "      <th>title</th>\n",
       "      <th>director</th>\n",
       "      <th>cast</th>\n",
       "      <th>country</th>\n",
       "      <th>date_added</th>\n",
       "      <th>release_year</th>\n",
       "      <th>rating</th>\n",
       "      <th>duration</th>\n",
       "      <th>listed_in</th>\n",
       "      <th>description</th>\n",
       "    </tr>\n",
       "  </thead>\n",
       "  <tbody>\n",
       "    <tr>\n",
       "      <th>0</th>\n",
       "      <td>0</td>\n",
       "      <td>s2</td>\n",
       "      <td>TV Show</td>\n",
       "      <td>blood &amp; water</td>\n",
       "      <td>NaN</td>\n",
       "      <td>Ama Qamata, Khosi Ngema, Gail Mabalane, Thaban...</td>\n",
       "      <td>South Africa</td>\n",
       "      <td>September 24, 2021</td>\n",
       "      <td>2021</td>\n",
       "      <td>TV-MA</td>\n",
       "      <td>2 Seasons</td>\n",
       "      <td>International TV Shows, TV Dramas, TV Mysteries</td>\n",
       "      <td>After crossing paths at a party, a Cape Town t...</td>\n",
       "    </tr>\n",
       "    <tr>\n",
       "      <th>1</th>\n",
       "      <td>1</td>\n",
       "      <td>s3</td>\n",
       "      <td>TV Show</td>\n",
       "      <td>ganglands</td>\n",
       "      <td>Julien Leclercq</td>\n",
       "      <td>Sami Bouajila, Tracy Gotoas, Samuel Jouy, Nabi...</td>\n",
       "      <td>NaN</td>\n",
       "      <td>September 24, 2021</td>\n",
       "      <td>2021</td>\n",
       "      <td>TV-MA</td>\n",
       "      <td>1 Season</td>\n",
       "      <td>Crime TV Shows, International TV Shows, TV Act...</td>\n",
       "      <td>To protect his family from a powerful drug lor...</td>\n",
       "    </tr>\n",
       "    <tr>\n",
       "      <th>2</th>\n",
       "      <td>2</td>\n",
       "      <td>s4</td>\n",
       "      <td>TV Show</td>\n",
       "      <td>jailbirds new orleans</td>\n",
       "      <td>NaN</td>\n",
       "      <td>NaN</td>\n",
       "      <td>NaN</td>\n",
       "      <td>September 24, 2021</td>\n",
       "      <td>2021</td>\n",
       "      <td>TV-MA</td>\n",
       "      <td>1 Season</td>\n",
       "      <td>Docuseries, Reality TV</td>\n",
       "      <td>Feuds, flirtations and toilet talk go down amo...</td>\n",
       "    </tr>\n",
       "    <tr>\n",
       "      <th>3</th>\n",
       "      <td>3</td>\n",
       "      <td>s5</td>\n",
       "      <td>TV Show</td>\n",
       "      <td>kota factory</td>\n",
       "      <td>NaN</td>\n",
       "      <td>Mayur More, Jitendra Kumar, Ranjan Raj, Alam K...</td>\n",
       "      <td>India</td>\n",
       "      <td>September 24, 2021</td>\n",
       "      <td>2021</td>\n",
       "      <td>TV-MA</td>\n",
       "      <td>2 Seasons</td>\n",
       "      <td>International TV Shows, Romantic TV Shows, TV ...</td>\n",
       "      <td>In a city of coaching centers known to train I...</td>\n",
       "    </tr>\n",
       "    <tr>\n",
       "      <th>4</th>\n",
       "      <td>4</td>\n",
       "      <td>s6</td>\n",
       "      <td>TV Show</td>\n",
       "      <td>midnight mass</td>\n",
       "      <td>Mike Flanagan</td>\n",
       "      <td>Kate Siegel, Zach Gilford, Hamish Linklater, H...</td>\n",
       "      <td>NaN</td>\n",
       "      <td>September 24, 2021</td>\n",
       "      <td>2021</td>\n",
       "      <td>TV-MA</td>\n",
       "      <td>1 Season</td>\n",
       "      <td>TV Dramas, TV Horror, TV Mysteries</td>\n",
       "      <td>The arrival of a charismatic young priest brin...</td>\n",
       "    </tr>\n",
       "  </tbody>\n",
       "</table>\n",
       "</div>"
      ],
      "text/plain": [
       "   index show_id     type                  title         director  \\\n",
       "0      0      s2  TV Show          blood & water              NaN   \n",
       "1      1      s3  TV Show              ganglands  Julien Leclercq   \n",
       "2      2      s4  TV Show  jailbirds new orleans              NaN   \n",
       "3      3      s5  TV Show           kota factory              NaN   \n",
       "4      4      s6  TV Show          midnight mass    Mike Flanagan   \n",
       "\n",
       "                                                cast       country  \\\n",
       "0  Ama Qamata, Khosi Ngema, Gail Mabalane, Thaban...  South Africa   \n",
       "1  Sami Bouajila, Tracy Gotoas, Samuel Jouy, Nabi...           NaN   \n",
       "2                                                NaN           NaN   \n",
       "3  Mayur More, Jitendra Kumar, Ranjan Raj, Alam K...         India   \n",
       "4  Kate Siegel, Zach Gilford, Hamish Linklater, H...           NaN   \n",
       "\n",
       "           date_added  release_year rating   duration  \\\n",
       "0  September 24, 2021          2021  TV-MA  2 Seasons   \n",
       "1  September 24, 2021          2021  TV-MA   1 Season   \n",
       "2  September 24, 2021          2021  TV-MA   1 Season   \n",
       "3  September 24, 2021          2021  TV-MA  2 Seasons   \n",
       "4  September 24, 2021          2021  TV-MA   1 Season   \n",
       "\n",
       "                                           listed_in  \\\n",
       "0    International TV Shows, TV Dramas, TV Mysteries   \n",
       "1  Crime TV Shows, International TV Shows, TV Act...   \n",
       "2                             Docuseries, Reality TV   \n",
       "3  International TV Shows, Romantic TV Shows, TV ...   \n",
       "4                 TV Dramas, TV Horror, TV Mysteries   \n",
       "\n",
       "                                         description  \n",
       "0  After crossing paths at a party, a Cape Town t...  \n",
       "1  To protect his family from a powerful drug lor...  \n",
       "2  Feuds, flirtations and toilet talk go down amo...  \n",
       "3  In a city of coaching centers known to train I...  \n",
       "4  The arrival of a charismatic young priest brin...  "
      ]
     },
     "execution_count": 5,
     "metadata": {},
     "output_type": "execute_result"
    }
   ],
   "source": [
    "df_shows = df[df['type']== 'TV Show'].reset_index()  # We are doing this to filter TV Shows data from dataset.\n",
    "df_shows.title = df_shows.title.str.lower() # we are using lower and str because it is a preprocessing part of NLP.\n",
    "df_shows['index'] = df_shows.index\n",
    "df_shows.head()"
   ]
  },
  {
   "cell_type": "code",
   "execution_count": 6,
   "id": "9c9e54b2",
   "metadata": {
    "execution": {
     "iopub.execute_input": "2022-08-06T04:10:40.730940Z",
     "iopub.status.busy": "2022-08-06T04:10:40.729896Z",
     "iopub.status.idle": "2022-08-06T04:10:40.765497Z",
     "shell.execute_reply": "2022-08-06T04:10:40.764208Z"
    },
    "papermill": {
     "duration": 0.048228,
     "end_time": "2022-08-06T04:10:40.768877",
     "exception": false,
     "start_time": "2022-08-06T04:10:40.720649",
     "status": "completed"
    },
    "tags": []
   },
   "outputs": [
    {
     "name": "stdout",
     "output_type": "stream",
     "text": [
      "0\n",
      "0\n"
     ]
    }
   ],
   "source": [
    "# we are checking is there any duplicate items or not.\n",
    "\n",
    "print(df_movies.duplicated().sum())\n",
    "print(df_shows.duplicated().sum())     "
   ]
  },
  {
   "cell_type": "markdown",
   "id": "23bac00c",
   "metadata": {
    "papermill": {
     "duration": 0.007716,
     "end_time": "2022-08-06T04:10:40.784678",
     "exception": false,
     "start_time": "2022-08-06T04:10:40.776962",
     "status": "completed"
    },
    "tags": []
   },
   "source": [
    "# Exploratory data analysis"
   ]
  },
  {
   "cell_type": "markdown",
   "id": "9a93c6c8",
   "metadata": {
    "papermill": {
     "duration": 0.007637,
     "end_time": "2022-08-06T04:10:40.800540",
     "exception": false,
     "start_time": "2022-08-06T04:10:40.792903",
     "status": "completed"
    },
    "tags": []
   },
   "source": [
    "## Comparing number of TV  Shows and Movies"
   ]
  },
  {
   "cell_type": "code",
   "execution_count": 7,
   "id": "1cbb5bf9",
   "metadata": {
    "execution": {
     "iopub.execute_input": "2022-08-06T04:10:40.818342Z",
     "iopub.status.busy": "2022-08-06T04:10:40.817599Z",
     "iopub.status.idle": "2022-08-06T04:10:40.823970Z",
     "shell.execute_reply": "2022-08-06T04:10:40.823219Z"
    },
    "papermill": {
     "duration": 0.017645,
     "end_time": "2022-08-06T04:10:40.826018",
     "exception": false,
     "start_time": "2022-08-06T04:10:40.808373",
     "status": "completed"
    },
    "tags": []
   },
   "outputs": [
    {
     "data": {
      "text/plain": [
       "Index(['show_id', 'type', 'title', 'director', 'cast', 'country', 'date_added',\n",
       "       'release_year', 'rating', 'duration', 'listed_in', 'description'],\n",
       "      dtype='object')"
      ]
     },
     "execution_count": 7,
     "metadata": {},
     "output_type": "execute_result"
    }
   ],
   "source": [
    "df.columns"
   ]
  },
  {
   "cell_type": "code",
   "execution_count": 8,
   "id": "794f7083",
   "metadata": {
    "execution": {
     "iopub.execute_input": "2022-08-06T04:10:40.844593Z",
     "iopub.status.busy": "2022-08-06T04:10:40.843906Z",
     "iopub.status.idle": "2022-08-06T04:10:41.034368Z",
     "shell.execute_reply": "2022-08-06T04:10:41.033103Z"
    },
    "papermill": {
     "duration": 0.203118,
     "end_time": "2022-08-06T04:10:41.037823",
     "exception": false,
     "start_time": "2022-08-06T04:10:40.834705",
     "status": "completed"
    },
    "tags": []
   },
   "outputs": [
    {
     "data": {
      "image/png": "[encoded data removed]",
      "text/plain": [
       "<Figure size 1080x432 with 1 Axes>"
      ]
     },
     "metadata": {
      "needs_background": "light"
     },
     "output_type": "display_data"
    }
   ],
   "source": [
    "plt.figure(figsize=(15,6))\n",
    "sns.countplot(data = df ,x ='type');"
   ]
  },
  {
   "cell_type": "code",
   "execution_count": 9,
   "id": "10cbe04b",
   "metadata": {
    "execution": {
     "iopub.execute_input": "2022-08-06T04:10:41.057844Z",
     "iopub.status.busy": "2022-08-06T04:10:41.057125Z",
     "iopub.status.idle": "2022-08-06T04:10:41.188099Z",
     "shell.execute_reply": "2022-08-06T04:10:41.186690Z"
    },
    "papermill": {
     "duration": 0.143558,
     "end_time": "2022-08-06T04:10:41.190846",
     "exception": false,
     "start_time": "2022-08-06T04:10:41.047288",
     "status": "completed"
    },
    "tags": []
   },
   "outputs": [
    {
     "data": {
      "image/png": "[encoded data removed]",
      "text/plain": [
       "<Figure size 432x288 with 1 Axes>"
      ]
     },
     "metadata": {},
     "output_type": "display_data"
    }
   ],
   "source": [
    "label = 'Movies','TV Shows'\n",
    "color = ['r','yellow']\n",
    "explode = (0.1,0)\n",
    "sizes = df.type.value_counts()\n",
    "plt.pie(sizes,explode = explode, colors= color, labels =label,shadow = True,autopct ='%1.2f%%')\n",
    "plt.axis('equal');\n"
   ]
  },
  {
   "cell_type": "code",
   "execution_count": 10,
   "id": "9cf6b406",
   "metadata": {
    "execution": {
     "iopub.execute_input": "2022-08-06T04:10:41.210988Z",
     "iopub.status.busy": "2022-08-06T04:10:41.209859Z",
     "iopub.status.idle": "2022-08-06T04:10:41.236711Z",
     "shell.execute_reply": "2022-08-06T04:10:41.235021Z"
    },
    "papermill": {
     "duration": 0.041326,
     "end_time": "2022-08-06T04:10:41.241042",
     "exception": false,
     "start_time": "2022-08-06T04:10:41.199716",
     "status": "completed"
    },
    "tags": []
   },
   "outputs": [
    {
     "data": {
      "text/html": [
       "<div>\n",
       "<style scoped>\n",
       "    .dataframe tbody tr th:only-of-type {\n",
       "        vertical-align: middle;\n",
       "    }\n",
       "\n",
       "    .dataframe tbody tr th {\n",
       "        vertical-align: top;\n",
       "    }\n",
       "\n",
       "    .dataframe thead th {\n",
       "        text-align: right;\n",
       "    }\n",
       "</style>\n",
       "<table border=\"1\" class=\"dataframe\">\n",
       "  <thead>\n",
       "    <tr style=\"text-align: right;\">\n",
       "      <th></th>\n",
       "      <th>title</th>\n",
       "      <th>release_year</th>\n",
       "    </tr>\n",
       "  </thead>\n",
       "  <tbody>\n",
       "    <tr>\n",
       "      <th>362</th>\n",
       "      <td>dynasty warriors</td>\n",
       "      <td>2021</td>\n",
       "    </tr>\n",
       "    <tr>\n",
       "      <th>484</th>\n",
       "      <td>myriam fares: the journey</td>\n",
       "      <td>2021</td>\n",
       "    </tr>\n",
       "    <tr>\n",
       "      <th>481</th>\n",
       "      <td>alan saldaña: locked up</td>\n",
       "      <td>2021</td>\n",
       "    </tr>\n",
       "    <tr>\n",
       "      <th>480</th>\n",
       "      <td>xtreme</td>\n",
       "      <td>2021</td>\n",
       "    </tr>\n",
       "    <tr>\n",
       "      <th>479</th>\n",
       "      <td>trippin' with the kandasamys</td>\n",
       "      <td>2021</td>\n",
       "    </tr>\n",
       "    <tr>\n",
       "      <th>478</th>\n",
       "      <td>sweet &amp; sour</td>\n",
       "      <td>2021</td>\n",
       "    </tr>\n",
       "    <tr>\n",
       "      <th>475</th>\n",
       "      <td>breaking boundaries: the science of our planet</td>\n",
       "      <td>2021</td>\n",
       "    </tr>\n",
       "    <tr>\n",
       "      <th>473</th>\n",
       "      <td>kitty love: an homage to cats</td>\n",
       "      <td>2021</td>\n",
       "    </tr>\n",
       "    <tr>\n",
       "      <th>470</th>\n",
       "      <td>tragic jungle</td>\n",
       "      <td>2021</td>\n",
       "    </tr>\n",
       "    <tr>\n",
       "      <th>468</th>\n",
       "      <td>awake</td>\n",
       "      <td>2021</td>\n",
       "    </tr>\n",
       "    <tr>\n",
       "      <th>465</th>\n",
       "      <td>camellia sisters</td>\n",
       "      <td>2021</td>\n",
       "    </tr>\n",
       "    <tr>\n",
       "      <th>462</th>\n",
       "      <td>wish dragon</td>\n",
       "      <td>2021</td>\n",
       "    </tr>\n",
       "    <tr>\n",
       "      <th>461</th>\n",
       "      <td>trese after dark</td>\n",
       "      <td>2021</td>\n",
       "    </tr>\n",
       "    <tr>\n",
       "      <th>460</th>\n",
       "      <td>skater girl</td>\n",
       "      <td>2021</td>\n",
       "    </tr>\n",
       "    <tr>\n",
       "      <th>459</th>\n",
       "      <td>sarbath</td>\n",
       "      <td>2021</td>\n",
       "    </tr>\n",
       "  </tbody>\n",
       "</table>\n",
       "</div>"
      ],
      "text/plain": [
       "                                              title  release_year\n",
       "362                                dynasty warriors          2021\n",
       "484                       myriam fares: the journey          2021\n",
       "481                         alan saldaña: locked up          2021\n",
       "480                                          xtreme          2021\n",
       "479                    trippin' with the kandasamys          2021\n",
       "478                                    sweet & sour          2021\n",
       "475  breaking boundaries: the science of our planet          2021\n",
       "473                   kitty love: an homage to cats          2021\n",
       "470                                   tragic jungle          2021\n",
       "468                                           awake          2021\n",
       "465                                camellia sisters          2021\n",
       "462                                     wish dragon          2021\n",
       "461                                trese after dark          2021\n",
       "460                                     skater girl          2021\n",
       "459                                         sarbath          2021"
      ]
     },
     "execution_count": 10,
     "metadata": {},
     "output_type": "execute_result"
    }
   ],
   "source": [
    "# List of latest 15 movies\n",
    "\n",
    "top_15 = df_movies.sort_values(by = 'release_year', ascending=False).head(15)\n",
    "top_15[['title','release_year']]"
   ]
  },
  {
   "cell_type": "code",
   "execution_count": 11,
   "id": "81dd8962",
   "metadata": {
    "execution": {
     "iopub.execute_input": "2022-08-06T04:10:41.277277Z",
     "iopub.status.busy": "2022-08-06T04:10:41.276663Z",
     "iopub.status.idle": "2022-08-06T04:10:41.548033Z",
     "shell.execute_reply": "2022-08-06T04:10:41.547167Z"
    },
    "papermill": {
     "duration": 0.285519,
     "end_time": "2022-08-06T04:10:41.550112",
     "exception": false,
     "start_time": "2022-08-06T04:10:41.264593",
     "status": "completed"
    },
    "tags": []
   },
   "outputs": [
    {
     "data": {
      "image/png": "[encoded data removed]",
      "text/plain": [
       "<Figure size 1080x432 with 1 Axes>"
      ]
     },
     "metadata": {
      "needs_background": "light"
     },
     "output_type": "display_data"
    }
   ],
   "source": [
    "# Country with most numbers of title\n",
    "\n",
    "plt.figure(figsize=(15,6))\n",
    "top_countries = df_movies['country'].value_counts().rename_axis('country').reset_index(name = 'counts')[:15]\n",
    "sns.barplot(data = top_countries, x= 'counts',y = 'country')\n",
    "plt.title('Top 15 country which has most no. of titles');"
   ]
  },
  {
   "cell_type": "code",
   "execution_count": 12,
   "id": "a5d7f111",
   "metadata": {
    "execution": {
     "iopub.execute_input": "2022-08-06T04:10:41.571313Z",
     "iopub.status.busy": "2022-08-06T04:10:41.570334Z",
     "iopub.status.idle": "2022-08-06T04:10:41.836979Z",
     "shell.execute_reply": "2022-08-06T04:10:41.836118Z"
    },
    "papermill": {
     "duration": 0.279509,
     "end_time": "2022-08-06T04:10:41.839013",
     "exception": false,
     "start_time": "2022-08-06T04:10:41.559504",
     "status": "completed"
    },
    "tags": []
   },
   "outputs": [
    {
     "data": {
      "image/png": "[encoded data removed]",
      "text/plain": [
       "<Figure size 1080x432 with 1 Axes>"
      ]
     },
     "metadata": {
      "needs_background": "light"
     },
     "output_type": "display_data"
    }
   ],
   "source": [
    "# Top 15 Genres \n",
    "\n",
    "filtered_genres = df_movies.set_index('title').listed_in.str.split(', ', expand=True).stack().reset_index(level=1, drop=True);\n",
    "\n",
    "plt.figure(figsize=(15,6))\n",
    "g = sns.countplot(y = filtered_genres, order=filtered_genres.value_counts().index[:15])\n",
    "plt.title('Top 15 Genres on Netflix')\n",
    "plt.xlabel('Titles')\n",
    "plt.ylabel('Genres')\n",
    "plt.show()"
   ]
  },
  {
   "cell_type": "markdown",
   "id": "9a1078c7",
   "metadata": {
    "papermill": {
     "duration": 0.009611,
     "end_time": "2022-08-06T04:10:41.858810",
     "exception": false,
     "start_time": "2022-08-06T04:10:41.849199",
     "status": "completed"
    },
    "tags": []
   },
   "source": [
    "# Building Recommendation system"
   ]
  },
  {
   "cell_type": "code",
   "execution_count": 13,
   "id": "80668bd8",
   "metadata": {
    "execution": {
     "iopub.execute_input": "2022-08-06T04:10:41.881192Z",
     "iopub.status.busy": "2022-08-06T04:10:41.880118Z",
     "iopub.status.idle": "2022-08-06T04:10:41.887439Z",
     "shell.execute_reply": "2022-08-06T04:10:41.886566Z"
    },
    "papermill": {
     "duration": 0.020547,
     "end_time": "2022-08-06T04:10:41.889673",
     "exception": false,
     "start_time": "2022-08-06T04:10:41.869126",
     "status": "completed"
    },
    "tags": []
   },
   "outputs": [
    {
     "data": {
      "text/plain": [
       "Index(['index', 'show_id', 'type', 'title', 'director', 'cast', 'country',\n",
       "       'date_added', 'release_year', 'rating', 'duration', 'listed_in',\n",
       "       'description'],\n",
       "      dtype='object')"
      ]
     },
     "execution_count": 13,
     "metadata": {},
     "output_type": "execute_result"
    }
   ],
   "source": [
    "df_movies.columns"
   ]
  },
  {
   "cell_type": "markdown",
   "id": "81c483db",
   "metadata": {
    "papermill": {
     "duration": 0.009593,
     "end_time": "2022-08-06T04:10:41.909323",
     "exception": false,
     "start_time": "2022-08-06T04:10:41.899730",
     "status": "completed"
    },
    "tags": []
   },
   "source": [
    "now, we will select a few features and create a column in a data frame that combines all the selected features into one string."
   ]
  },
  {
   "cell_type": "code",
   "execution_count": 14,
   "id": "1da467fb",
   "metadata": {
    "execution": {
     "iopub.execute_input": "2022-08-06T04:10:41.930779Z",
     "iopub.status.busy": "2022-08-06T04:10:41.930387Z",
     "iopub.status.idle": "2022-08-06T04:10:41.935451Z",
     "shell.execute_reply": "2022-08-06T04:10:41.934303Z"
    },
    "papermill": {
     "duration": 0.018891,
     "end_time": "2022-08-06T04:10:41.937975",
     "exception": false,
     "start_time": "2022-08-06T04:10:41.919084",
     "status": "completed"
    },
    "tags": []
   },
   "outputs": [],
   "source": [
    "features = ['director','country','cast','listed_in','description']"
   ]
  },
  {
   "cell_type": "markdown",
   "id": "216ee624",
   "metadata": {
    "papermill": {
     "duration": 0.009425,
     "end_time": "2022-08-06T04:10:41.957611",
     "exception": false,
     "start_time": "2022-08-06T04:10:41.948186",
     "status": "completed"
    },
    "tags": []
   },
   "source": [
    "So we have a function name as combined_features to which we give the input of rows and this returns the row of the features. By using the apply method we will transform this function to all the rows of the data frame:"
   ]
  },
  {
   "cell_type": "code",
   "execution_count": 15,
   "id": "8852faf1",
   "metadata": {
    "execution": {
     "iopub.execute_input": "2022-08-06T04:10:41.979559Z",
     "iopub.status.busy": "2022-08-06T04:10:41.978745Z",
     "iopub.status.idle": "2022-08-06T04:10:41.990098Z",
     "shell.execute_reply": "2022-08-06T04:10:41.989282Z"
    },
    "papermill": {
     "duration": 0.025207,
     "end_time": "2022-08-06T04:10:41.992555",
     "exception": false,
     "start_time": "2022-08-06T04:10:41.967348",
     "status": "completed"
    },
    "tags": []
   },
   "outputs": [],
   "source": [
    "# Create a column in a dataframe which combines all the selected features\n",
    "\n",
    "for feature in features:\n",
    "    df_movies[feature] = df_movies[feature].fillna('')\n",
    "def combine_features(row):\n",
    "    return row['director']+\" \"+row['country']+\" \"+row[\"cast\"]+\" \"+row[\"listed_in\"]+\" \"+row[\"description\"]"
   ]
  },
  {
   "cell_type": "code",
   "execution_count": 16,
   "id": "adc83971",
   "metadata": {
    "execution": {
     "iopub.execute_input": "2022-08-06T04:10:42.014545Z",
     "iopub.status.busy": "2022-08-06T04:10:42.013720Z",
     "iopub.status.idle": "2022-08-06T04:10:42.199332Z",
     "shell.execute_reply": "2022-08-06T04:10:42.198044Z"
    },
    "papermill": {
     "duration": 0.200379,
     "end_time": "2022-08-06T04:10:42.202870",
     "exception": false,
     "start_time": "2022-08-06T04:10:42.002491",
     "status": "completed"
    },
    "tags": []
   },
   "outputs": [
    {
     "name": "stdout",
     "output_type": "stream",
     "text": [
      "combine feature :  0       Kirsten Johnson United States  Documentaries A...\n",
      "1       Robert Cullen, José Luis Ucha  Vanessa Hudgens...\n",
      "2       Haile Gerima United States, Ghana, Burkina Fas...\n",
      "3       Theodore Melfi United States Melissa McCarthy,...\n",
      "4       Christian Schwochow Germany, Czech Republic Lu...\n",
      "                              ...                        \n",
      "6126    Majid Al Ansari United Arab Emirates, Jordan A...\n",
      "6127    David Fincher United States Mark Ruffalo, Jake...\n",
      "6128    Ruben Fleischer United States Jesse Eisenberg,...\n",
      "6129    Peter Hewitt United States Tim Allen, Courtene...\n",
      "6130    Mozez Singh India Vicky Kaushal, Sarah-Jane Di...\n",
      "Name: combined_features, Length: 6131, dtype: object\n"
     ]
    }
   ],
   "source": [
    "df_movies['combined_features'] = df_movies.apply(combine_features,axis =1)\n",
    "print('combine feature : ',df_movies['combined_features'])"
   ]
  },
  {
   "cell_type": "markdown",
   "id": "c3a78e8e",
   "metadata": {
    "papermill": {
     "duration": 0.009637,
     "end_time": "2022-08-06T04:10:42.223086",
     "exception": false,
     "start_time": "2022-08-06T04:10:42.213449",
     "status": "completed"
    },
    "tags": []
   },
   "source": [
    "Now we need to check the similarities between the content for which we create the count metric and then get the cosine similarity to get the similarity score."
   ]
  },
  {
   "cell_type": "code",
   "execution_count": 17,
   "id": "212ff63e",
   "metadata": {
    "execution": {
     "iopub.execute_input": "2022-08-06T04:10:42.245709Z",
     "iopub.status.busy": "2022-08-06T04:10:42.244157Z",
     "iopub.status.idle": "2022-08-06T04:10:44.882092Z",
     "shell.execute_reply": "2022-08-06T04:10:44.880867Z"
    },
    "papermill": {
     "duration": 2.651967,
     "end_time": "2022-08-06T04:10:44.884875",
     "exception": false,
     "start_time": "2022-08-06T04:10:42.232908",
     "status": "completed"
    },
    "tags": []
   },
   "outputs": [],
   "source": [
    "# Now we will create matrix from this new combine columns\n",
    "\n",
    "cv = CountVectorizer()\n",
    "count_matrix = cv.fit_transform(df_movies['combined_features'])\n",
    "cosine_sim = cosine_similarity(count_matrix)"
   ]
  },
  {
   "cell_type": "markdown",
   "id": "be6b1ddb",
   "metadata": {
    "papermill": {
     "duration": 0.00982,
     "end_time": "2022-08-06T04:10:44.904847",
     "exception": false,
     "start_time": "2022-08-06T04:10:44.895027",
     "status": "completed"
    },
    "tags": []
   },
   "source": [
    "##  After getting the similarity between the content we just need to print the topmost similarity score --"
   ]
  },
  {
   "cell_type": "code",
   "execution_count": 18,
   "id": "a6bf1292",
   "metadata": {
    "execution": {
     "iopub.execute_input": "2022-08-06T04:10:44.927991Z",
     "iopub.status.busy": "2022-08-06T04:10:44.927305Z",
     "iopub.status.idle": "2022-08-06T04:10:44.932189Z",
     "shell.execute_reply": "2022-08-06T04:10:44.931363Z"
    },
    "papermill": {
     "duration": 0.018937,
     "end_time": "2022-08-06T04:10:44.934485",
     "exception": false,
     "start_time": "2022-08-06T04:10:44.915548",
     "status": "completed"
    },
    "tags": []
   },
   "outputs": [],
   "source": [
    "# Get index of the movie from the title\n",
    "\n",
    "def title_from_index(index):\n",
    "    return df_movies[df_movies.index == index]['title'].values[0]"
   ]
  },
  {
   "cell_type": "code",
   "execution_count": 19,
   "id": "9416d189",
   "metadata": {
    "execution": {
     "iopub.execute_input": "2022-08-06T04:10:44.957221Z",
     "iopub.status.busy": "2022-08-06T04:10:44.956436Z",
     "iopub.status.idle": "2022-08-06T04:10:44.961736Z",
     "shell.execute_reply": "2022-08-06T04:10:44.960746Z"
    },
    "papermill": {
     "duration": 0.019571,
     "end_time": "2022-08-06T04:10:44.964173",
     "exception": false,
     "start_time": "2022-08-06T04:10:44.944602",
     "status": "completed"
    },
    "tags": []
   },
   "outputs": [],
   "source": [
    "def title_from_index(df,index):\n",
    "    return df[df.index == index]['title'].values[0]\n"
   ]
  },
  {
   "cell_type": "code",
   "execution_count": 20,
   "id": "e8ecbeea",
   "metadata": {
    "execution": {
     "iopub.execute_input": "2022-08-06T04:10:44.986557Z",
     "iopub.status.busy": "2022-08-06T04:10:44.986134Z",
     "iopub.status.idle": "2022-08-06T04:10:44.991286Z",
     "shell.execute_reply": "2022-08-06T04:10:44.990099Z"
    },
    "papermill": {
     "duration": 0.019199,
     "end_time": "2022-08-06T04:10:44.993622",
     "exception": false,
     "start_time": "2022-08-06T04:10:44.974423",
     "status": "completed"
    },
    "tags": []
   },
   "outputs": [],
   "source": [
    "def index_from_title(df,title):\n",
    "    return df[df.title == title]['index'].values[0]"
   ]
  },
  {
   "cell_type": "code",
   "execution_count": 21,
   "id": "e044cb60",
   "metadata": {
    "execution": {
     "iopub.execute_input": "2022-08-06T04:10:45.016341Z",
     "iopub.status.busy": "2022-08-06T04:10:45.015536Z",
     "iopub.status.idle": "2022-08-06T04:10:45.023282Z",
     "shell.execute_reply": "2022-08-06T04:10:45.022423Z"
    },
    "papermill": {
     "duration": 0.021993,
     "end_time": "2022-08-06T04:10:45.025655",
     "exception": false,
     "start_time": "2022-08-06T04:10:45.003662",
     "status": "completed"
    },
    "tags": []
   },
   "outputs": [],
   "source": [
    "# Get the list of similar movies in the descending order of similarity score.\n",
    "\n",
    "def selectmovie(movie_user_likes):\n",
    "    try:\n",
    "        movie_user_likes = movie_user_likes.lower()\n",
    "        movie_index = index_from_title(df_movies,movie_user_likes)\n",
    "        similar_movies  = list(enumerate(cosine_sim[movie_index]))\n",
    "        sorted_similar_movies = sorted(similar_movies,key = lambda x:x[1],reverse=True)[1:]\n",
    "        i = 0 \n",
    "        print(\"Top  5 similar movies to \" + movie_user_likes + \" are:\\n\")\n",
    "    \n",
    "        for element in sorted_similar_movies:\n",
    "            print(title_from_index(df_movies,element[0]))\n",
    "            i = i+1\n",
    "            if i>=5:\n",
    "                break\n",
    "    except:\n",
    "        print(\"Movie not found in netflix\")"
   ]
  },
  {
   "cell_type": "code",
   "execution_count": 22,
   "id": "4f83d6a2",
   "metadata": {
    "execution": {
     "iopub.execute_input": "2022-08-06T04:10:45.048501Z",
     "iopub.status.busy": "2022-08-06T04:10:45.047778Z",
     "iopub.status.idle": "2022-08-06T04:10:45.063997Z",
     "shell.execute_reply": "2022-08-06T04:10:45.062648Z"
    },
    "papermill": {
     "duration": 0.03198,
     "end_time": "2022-08-06T04:10:45.068113",
     "exception": false,
     "start_time": "2022-08-06T04:10:45.036133",
     "status": "completed"
    },
    "tags": []
   },
   "outputs": [
    {
     "name": "stdout",
     "output_type": "stream",
     "text": [
      "Top  5 similar movies to sweetheart are:\n",
      "\n",
      "apollo 18\n",
      "dark light\n",
      "automata\n",
      "underworld\n",
      "wildling\n"
     ]
    }
   ],
   "source": [
    "# Print the title of top 5 similar movies\n",
    "\n",
    "selectmovie('sweetheart')"
   ]
  },
  {
   "cell_type": "code",
   "execution_count": null,
   "id": "793bfa77",
   "metadata": {
    "papermill": {
     "duration": 0.009849,
     "end_time": "2022-08-06T04:10:45.088539",
     "exception": false,
     "start_time": "2022-08-06T04:10:45.078690",
     "status": "completed"
    },
    "tags": []
   },
   "outputs": [],
   "source": []
  }
 ],
 "metadata": {
  "kernelspec": {
   "display_name": "Python 3",
   "language": "python",
   "name": "python3"
  },
  "language_info": {
   "codemirror_mode": {
    "name": "ipython",
    "version": 3
   },
   "file_extension": ".py",
   "mimetype": "text/x-python",
   "name": "python",
   "nbconvert_exporter": "python",
   "pygments_lexer": "ipython3",
   "version": "3.7.12"
  },
  "papermill": {
   "default_parameters": {},
   "duration": 16.856222,
   "end_time": "2022-08-06T04:10:45.921562",
   "environment_variables": {},
   "exception": null,
   "input_path": "__notebook__.ipynb",
   "output_path": "__notebook__.ipynb",
   "parameters": {},
   "start_time": "2022-08-06T04:10:29.065340",
   "version": "2.3.4"
  }
 },
 "nbformat": 4,
 "nbformat_minor": 5
}
