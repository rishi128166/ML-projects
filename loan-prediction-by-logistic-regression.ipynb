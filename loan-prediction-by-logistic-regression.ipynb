{
 "cells": [
  {
   "cell_type": "code",
   "execution_count": 1,
   "id": "744dd5db",
   "metadata": {
    "execution": {
     "iopub.execute_input": "2022-07-30T11:46:19.741452Z",
     "iopub.status.busy": "2022-07-30T11:46:19.740509Z",
     "iopub.status.idle": "2022-07-30T11:46:20.902418Z",
     "shell.execute_reply": "2022-07-30T11:46:20.901213Z"
    },
    "papermill": {
     "duration": 1.180768,
     "end_time": "2022-07-30T11:46:20.905591",
     "exception": false,
     "start_time": "2022-07-30T11:46:19.724823",
     "status": "completed"
    },
    "tags": []
   },
   "outputs": [],
   "source": [
    "import numpy as np\n",
    "import pandas as pd\n",
    "import matplotlib.pyplot as plt\n",
    "import seaborn as sns"
   ]
  },
  {
   "cell_type": "code",
   "execution_count": 2,
   "id": "14cfaff5",
   "metadata": {
    "execution": {
     "iopub.execute_input": "2022-07-30T11:46:20.930967Z",
     "iopub.status.busy": "2022-07-30T11:46:20.929950Z",
     "iopub.status.idle": "2022-07-30T11:46:20.973847Z",
     "shell.execute_reply": "2022-07-30T11:46:20.972425Z"
    },
    "papermill": {
     "duration": 0.059505,
     "end_time": "2022-07-30T11:46:20.976585",
     "exception": false,
     "start_time": "2022-07-30T11:46:20.917080",
     "status": "completed"
    },
    "tags": []
   },
   "outputs": [
    {
     "data": {
      "text/html": [
       "<div>\n",
       "<style scoped>\n",
       "    .dataframe tbody tr th:only-of-type {\n",
       "        vertical-align: middle;\n",
       "    }\n",
       "\n",
       "    .dataframe tbody tr th {\n",
       "        vertical-align: top;\n",
       "    }\n",
       "\n",
       "    .dataframe thead th {\n",
       "        text-align: right;\n",
       "    }\n",
       "</style>\n",
       "<table border=\"1\" class=\"dataframe\">\n",
       "  <thead>\n",
       "    <tr style=\"text-align: right;\">\n",
       "      <th></th>\n",
       "      <th>Loan_ID</th>\n",
       "      <th>Gender</th>\n",
       "      <th>Married</th>\n",
       "      <th>Dependents</th>\n",
       "      <th>Education</th>\n",
       "      <th>Self_Employed</th>\n",
       "      <th>ApplicantIncome</th>\n",
       "      <th>CoapplicantIncome</th>\n",
       "      <th>LoanAmount</th>\n",
       "      <th>Loan_Amount_Term</th>\n",
       "      <th>Credit_History</th>\n",
       "      <th>Property_Area</th>\n",
       "      <th>Loan_Status</th>\n",
       "    </tr>\n",
       "  </thead>\n",
       "  <tbody>\n",
       "    <tr>\n",
       "      <th>0</th>\n",
       "      <td>LP001002</td>\n",
       "      <td>Male</td>\n",
       "      <td>No</td>\n",
       "      <td>0</td>\n",
       "      <td>Graduate</td>\n",
       "      <td>No</td>\n",
       "      <td>5849</td>\n",
       "      <td>0.0</td>\n",
       "      <td>NaN</td>\n",
       "      <td>360.0</td>\n",
       "      <td>1.0</td>\n",
       "      <td>Urban</td>\n",
       "      <td>Y</td>\n",
       "    </tr>\n",
       "    <tr>\n",
       "      <th>1</th>\n",
       "      <td>LP001003</td>\n",
       "      <td>Male</td>\n",
       "      <td>Yes</td>\n",
       "      <td>1</td>\n",
       "      <td>Graduate</td>\n",
       "      <td>No</td>\n",
       "      <td>4583</td>\n",
       "      <td>1508.0</td>\n",
       "      <td>128.0</td>\n",
       "      <td>360.0</td>\n",
       "      <td>1.0</td>\n",
       "      <td>Rural</td>\n",
       "      <td>N</td>\n",
       "    </tr>\n",
       "    <tr>\n",
       "      <th>2</th>\n",
       "      <td>LP001005</td>\n",
       "      <td>Male</td>\n",
       "      <td>Yes</td>\n",
       "      <td>0</td>\n",
       "      <td>Graduate</td>\n",
       "      <td>Yes</td>\n",
       "      <td>3000</td>\n",
       "      <td>0.0</td>\n",
       "      <td>66.0</td>\n",
       "      <td>360.0</td>\n",
       "      <td>1.0</td>\n",
       "      <td>Urban</td>\n",
       "      <td>Y</td>\n",
       "    </tr>\n",
       "    <tr>\n",
       "      <th>3</th>\n",
       "      <td>LP001006</td>\n",
       "      <td>Male</td>\n",
       "      <td>Yes</td>\n",
       "      <td>0</td>\n",
       "      <td>Not Graduate</td>\n",
       "      <td>No</td>\n",
       "      <td>2583</td>\n",
       "      <td>2358.0</td>\n",
       "      <td>120.0</td>\n",
       "      <td>360.0</td>\n",
       "      <td>1.0</td>\n",
       "      <td>Urban</td>\n",
       "      <td>Y</td>\n",
       "    </tr>\n",
       "    <tr>\n",
       "      <th>4</th>\n",
       "      <td>LP001008</td>\n",
       "      <td>Male</td>\n",
       "      <td>No</td>\n",
       "      <td>0</td>\n",
       "      <td>Graduate</td>\n",
       "      <td>No</td>\n",
       "      <td>6000</td>\n",
       "      <td>0.0</td>\n",
       "      <td>141.0</td>\n",
       "      <td>360.0</td>\n",
       "      <td>1.0</td>\n",
       "      <td>Urban</td>\n",
       "      <td>Y</td>\n",
       "    </tr>\n",
       "  </tbody>\n",
       "</table>\n",
       "</div>"
      ],
      "text/plain": [
       "    Loan_ID Gender Married Dependents     Education Self_Employed  \\\n",
       "0  LP001002   Male      No          0      Graduate            No   \n",
       "1  LP001003   Male     Yes          1      Graduate            No   \n",
       "2  LP001005   Male     Yes          0      Graduate           Yes   \n",
       "3  LP001006   Male     Yes          0  Not Graduate            No   \n",
       "4  LP001008   Male      No          0      Graduate            No   \n",
       "\n",
       "   ApplicantIncome  CoapplicantIncome  LoanAmount  Loan_Amount_Term  \\\n",
       "0             5849                0.0         NaN             360.0   \n",
       "1             4583             1508.0       128.0             360.0   \n",
       "2             3000                0.0        66.0             360.0   \n",
       "3             2583             2358.0       120.0             360.0   \n",
       "4             6000                0.0       141.0             360.0   \n",
       "\n",
       "   Credit_History Property_Area Loan_Status  \n",
       "0             1.0         Urban           Y  \n",
       "1             1.0         Rural           N  \n",
       "2             1.0         Urban           Y  \n",
       "3             1.0         Urban           Y  \n",
       "4             1.0         Urban           Y  "
      ]
     },
     "execution_count": 2,
     "metadata": {},
     "output_type": "execute_result"
    }
   ],
   "source": [
    "data = pd.read_csv('../input/loan-predication/train_u6lujuX_CVtuZ9i (1).csv')\n",
    "data.head()"
   ]
  },
  {
   "cell_type": "code",
   "execution_count": 3,
   "id": "f5bffe39",
   "metadata": {
    "execution": {
     "iopub.execute_input": "2022-07-30T11:46:21.001976Z",
     "iopub.status.busy": "2022-07-30T11:46:21.001560Z",
     "iopub.status.idle": "2022-07-30T11:46:21.041005Z",
     "shell.execute_reply": "2022-07-30T11:46:21.039704Z"
    },
    "papermill": {
     "duration": 0.05532,
     "end_time": "2022-07-30T11:46:21.043690",
     "exception": false,
     "start_time": "2022-07-30T11:46:20.988370",
     "status": "completed"
    },
    "tags": []
   },
   "outputs": [
    {
     "data": {
      "text/html": [
       "<div>\n",
       "<style scoped>\n",
       "    .dataframe tbody tr th:only-of-type {\n",
       "        vertical-align: middle;\n",
       "    }\n",
       "\n",
       "    .dataframe tbody tr th {\n",
       "        vertical-align: top;\n",
       "    }\n",
       "\n",
       "    .dataframe thead th {\n",
       "        text-align: right;\n",
       "    }\n",
       "</style>\n",
       "<table border=\"1\" class=\"dataframe\">\n",
       "  <thead>\n",
       "    <tr style=\"text-align: right;\">\n",
       "      <th></th>\n",
       "      <th>ApplicantIncome</th>\n",
       "      <th>CoapplicantIncome</th>\n",
       "      <th>LoanAmount</th>\n",
       "      <th>Loan_Amount_Term</th>\n",
       "      <th>Credit_History</th>\n",
       "    </tr>\n",
       "  </thead>\n",
       "  <tbody>\n",
       "    <tr>\n",
       "      <th>count</th>\n",
       "      <td>614.000000</td>\n",
       "      <td>614.000000</td>\n",
       "      <td>592.000000</td>\n",
       "      <td>600.00000</td>\n",
       "      <td>564.000000</td>\n",
       "    </tr>\n",
       "    <tr>\n",
       "      <th>mean</th>\n",
       "      <td>5403.459283</td>\n",
       "      <td>1621.245798</td>\n",
       "      <td>146.412162</td>\n",
       "      <td>342.00000</td>\n",
       "      <td>0.842199</td>\n",
       "    </tr>\n",
       "    <tr>\n",
       "      <th>std</th>\n",
       "      <td>6109.041673</td>\n",
       "      <td>2926.248369</td>\n",
       "      <td>85.587325</td>\n",
       "      <td>65.12041</td>\n",
       "      <td>0.364878</td>\n",
       "    </tr>\n",
       "    <tr>\n",
       "      <th>min</th>\n",
       "      <td>150.000000</td>\n",
       "      <td>0.000000</td>\n",
       "      <td>9.000000</td>\n",
       "      <td>12.00000</td>\n",
       "      <td>0.000000</td>\n",
       "    </tr>\n",
       "    <tr>\n",
       "      <th>25%</th>\n",
       "      <td>2877.500000</td>\n",
       "      <td>0.000000</td>\n",
       "      <td>100.000000</td>\n",
       "      <td>360.00000</td>\n",
       "      <td>1.000000</td>\n",
       "    </tr>\n",
       "    <tr>\n",
       "      <th>50%</th>\n",
       "      <td>3812.500000</td>\n",
       "      <td>1188.500000</td>\n",
       "      <td>128.000000</td>\n",
       "      <td>360.00000</td>\n",
       "      <td>1.000000</td>\n",
       "    </tr>\n",
       "    <tr>\n",
       "      <th>75%</th>\n",
       "      <td>5795.000000</td>\n",
       "      <td>2297.250000</td>\n",
       "      <td>168.000000</td>\n",
       "      <td>360.00000</td>\n",
       "      <td>1.000000</td>\n",
       "    </tr>\n",
       "    <tr>\n",
       "      <th>max</th>\n",
       "      <td>81000.000000</td>\n",
       "      <td>41667.000000</td>\n",
       "      <td>700.000000</td>\n",
       "      <td>480.00000</td>\n",
       "      <td>1.000000</td>\n",
       "    </tr>\n",
       "  </tbody>\n",
       "</table>\n",
       "</div>"
      ],
      "text/plain": [
       "       ApplicantIncome  CoapplicantIncome  LoanAmount  Loan_Amount_Term  \\\n",
       "count       614.000000         614.000000  592.000000         600.00000   \n",
       "mean       5403.459283        1621.245798  146.412162         342.00000   \n",
       "std        6109.041673        2926.248369   85.587325          65.12041   \n",
       "min         150.000000           0.000000    9.000000          12.00000   \n",
       "25%        2877.500000           0.000000  100.000000         360.00000   \n",
       "50%        3812.500000        1188.500000  128.000000         360.00000   \n",
       "75%        5795.000000        2297.250000  168.000000         360.00000   \n",
       "max       81000.000000       41667.000000  700.000000         480.00000   \n",
       "\n",
       "       Credit_History  \n",
       "count      564.000000  \n",
       "mean         0.842199  \n",
       "std          0.364878  \n",
       "min          0.000000  \n",
       "25%          1.000000  \n",
       "50%          1.000000  \n",
       "75%          1.000000  \n",
       "max          1.000000  "
      ]
     },
     "execution_count": 3,
     "metadata": {},
     "output_type": "execute_result"
    }
   ],
   "source": [
    "data.describe()"
   ]
  },
  {
   "cell_type": "code",
   "execution_count": 4,
   "id": "20f7dc94",
   "metadata": {
    "execution": {
     "iopub.execute_input": "2022-07-30T11:46:21.069807Z",
     "iopub.status.busy": "2022-07-30T11:46:21.069408Z",
     "iopub.status.idle": "2022-07-30T11:46:21.088584Z",
     "shell.execute_reply": "2022-07-30T11:46:21.087242Z"
    },
    "papermill": {
     "duration": 0.035384,
     "end_time": "2022-07-30T11:46:21.091527",
     "exception": false,
     "start_time": "2022-07-30T11:46:21.056143",
     "status": "completed"
    },
    "tags": []
   },
   "outputs": [
    {
     "name": "stdout",
     "output_type": "stream",
     "text": [
      "<class 'pandas.core.frame.DataFrame'>\n",
      "RangeIndex: 614 entries, 0 to 613\n",
      "Data columns (total 13 columns):\n",
      " #   Column             Non-Null Count  Dtype  \n",
      "---  ------             --------------  -----  \n",
      " 0   Loan_ID            614 non-null    object \n",
      " 1   Gender             601 non-null    object \n",
      " 2   Married            611 non-null    object \n",
      " 3   Dependents         599 non-null    object \n",
      " 4   Education          614 non-null    object \n",
      " 5   Self_Employed      582 non-null    object \n",
      " 6   ApplicantIncome    614 non-null    int64  \n",
      " 7   CoapplicantIncome  614 non-null    float64\n",
      " 8   LoanAmount         592 non-null    float64\n",
      " 9   Loan_Amount_Term   600 non-null    float64\n",
      " 10  Credit_History     564 non-null    float64\n",
      " 11  Property_Area      614 non-null    object \n",
      " 12  Loan_Status        614 non-null    object \n",
      "dtypes: float64(4), int64(1), object(8)\n",
      "memory usage: 62.5+ KB\n"
     ]
    }
   ],
   "source": [
    "data.info()"
   ]
  },
  {
   "cell_type": "code",
   "execution_count": 5,
   "id": "18fa27f7",
   "metadata": {
    "execution": {
     "iopub.execute_input": "2022-07-30T11:46:21.119402Z",
     "iopub.status.busy": "2022-07-30T11:46:21.119016Z",
     "iopub.status.idle": "2022-07-30T11:46:21.129308Z",
     "shell.execute_reply": "2022-07-30T11:46:21.128356Z"
    },
    "papermill": {
     "duration": 0.026089,
     "end_time": "2022-07-30T11:46:21.131588",
     "exception": false,
     "start_time": "2022-07-30T11:46:21.105499",
     "status": "completed"
    },
    "tags": []
   },
   "outputs": [
    {
     "data": {
      "text/plain": [
       "Loan_ID               0\n",
       "Gender               13\n",
       "Married               3\n",
       "Dependents           15\n",
       "Education             0\n",
       "Self_Employed        32\n",
       "ApplicantIncome       0\n",
       "CoapplicantIncome     0\n",
       "LoanAmount           22\n",
       "Loan_Amount_Term     14\n",
       "Credit_History       50\n",
       "Property_Area         0\n",
       "Loan_Status           0\n",
       "dtype: int64"
      ]
     },
     "execution_count": 5,
     "metadata": {},
     "output_type": "execute_result"
    }
   ],
   "source": [
    "data.isnull().sum()"
   ]
  },
  {
   "cell_type": "code",
   "execution_count": 6,
   "id": "70388480",
   "metadata": {
    "execution": {
     "iopub.execute_input": "2022-07-30T11:46:21.159482Z",
     "iopub.status.busy": "2022-07-30T11:46:21.158606Z",
     "iopub.status.idle": "2022-07-30T11:46:21.166576Z",
     "shell.execute_reply": "2022-07-30T11:46:21.165485Z"
    },
    "papermill": {
     "duration": 0.024407,
     "end_time": "2022-07-30T11:46:21.169058",
     "exception": false,
     "start_time": "2022-07-30T11:46:21.144651",
     "status": "completed"
    },
    "tags": []
   },
   "outputs": [
    {
     "data": {
      "text/plain": [
       "Loan_ID               object\n",
       "Gender                object\n",
       "Married               object\n",
       "Dependents            object\n",
       "Education             object\n",
       "Self_Employed         object\n",
       "ApplicantIncome        int64\n",
       "CoapplicantIncome    float64\n",
       "LoanAmount           float64\n",
       "Loan_Amount_Term     float64\n",
       "Credit_History       float64\n",
       "Property_Area         object\n",
       "Loan_Status           object\n",
       "dtype: object"
      ]
     },
     "execution_count": 6,
     "metadata": {},
     "output_type": "execute_result"
    }
   ],
   "source": [
    "data.dtypes"
   ]
  },
  {
   "cell_type": "code",
   "execution_count": 7,
   "id": "c220d812",
   "metadata": {
    "execution": {
     "iopub.execute_input": "2022-07-30T11:46:21.196074Z",
     "iopub.status.busy": "2022-07-30T11:46:21.195425Z",
     "iopub.status.idle": "2022-07-30T11:46:21.201562Z",
     "shell.execute_reply": "2022-07-30T11:46:21.200689Z"
    },
    "papermill": {
     "duration": 0.022471,
     "end_time": "2022-07-30T11:46:21.203776",
     "exception": false,
     "start_time": "2022-07-30T11:46:21.181305",
     "status": "completed"
    },
    "tags": []
   },
   "outputs": [
    {
     "data": {
      "text/plain": [
       "(614, 13)"
      ]
     },
     "execution_count": 7,
     "metadata": {},
     "output_type": "execute_result"
    }
   ],
   "source": [
    "data.shape"
   ]
  },
  {
   "cell_type": "code",
   "execution_count": 8,
   "id": "eab7729e",
   "metadata": {
    "execution": {
     "iopub.execute_input": "2022-07-30T11:46:21.230442Z",
     "iopub.status.busy": "2022-07-30T11:46:21.229827Z",
     "iopub.status.idle": "2022-07-30T11:46:21.238100Z",
     "shell.execute_reply": "2022-07-30T11:46:21.237005Z"
    },
    "papermill": {
     "duration": 0.024939,
     "end_time": "2022-07-30T11:46:21.240941",
     "exception": false,
     "start_time": "2022-07-30T11:46:21.216002",
     "status": "completed"
    },
    "tags": []
   },
   "outputs": [],
   "source": [
    "data = data.dropna()"
   ]
  },
  {
   "cell_type": "code",
   "execution_count": 9,
   "id": "0a9a4c91",
   "metadata": {
    "execution": {
     "iopub.execute_input": "2022-07-30T11:46:21.267792Z",
     "iopub.status.busy": "2022-07-30T11:46:21.267136Z",
     "iopub.status.idle": "2022-07-30T11:46:21.276855Z",
     "shell.execute_reply": "2022-07-30T11:46:21.275607Z"
    },
    "papermill": {
     "duration": 0.026192,
     "end_time": "2022-07-30T11:46:21.279452",
     "exception": false,
     "start_time": "2022-07-30T11:46:21.253260",
     "status": "completed"
    },
    "tags": []
   },
   "outputs": [
    {
     "data": {
      "text/plain": [
       "Loan_ID              0\n",
       "Gender               0\n",
       "Married              0\n",
       "Dependents           0\n",
       "Education            0\n",
       "Self_Employed        0\n",
       "ApplicantIncome      0\n",
       "CoapplicantIncome    0\n",
       "LoanAmount           0\n",
       "Loan_Amount_Term     0\n",
       "Credit_History       0\n",
       "Property_Area        0\n",
       "Loan_Status          0\n",
       "dtype: int64"
      ]
     },
     "execution_count": 9,
     "metadata": {},
     "output_type": "execute_result"
    }
   ],
   "source": [
    "data.isnull().sum()"
   ]
  },
  {
   "cell_type": "code",
   "execution_count": 10,
   "id": "dabe5ebc",
   "metadata": {
    "execution": {
     "iopub.execute_input": "2022-07-30T11:46:21.308245Z",
     "iopub.status.busy": "2022-07-30T11:46:21.307596Z",
     "iopub.status.idle": "2022-07-30T11:46:21.314785Z",
     "shell.execute_reply": "2022-07-30T11:46:21.313683Z"
    },
    "papermill": {
     "duration": 0.024404,
     "end_time": "2022-07-30T11:46:21.317703",
     "exception": false,
     "start_time": "2022-07-30T11:46:21.293299",
     "status": "completed"
    },
    "tags": []
   },
   "outputs": [],
   "source": [
    "# Label encoding...\n",
    "\n",
    "data.replace({'Loan_Status':{'N':0,'Y': 1}},inplace = True)"
   ]
  },
  {
   "cell_type": "code",
   "execution_count": 11,
   "id": "8ec2f62f",
   "metadata": {
    "execution": {
     "iopub.execute_input": "2022-07-30T11:46:21.345238Z",
     "iopub.status.busy": "2022-07-30T11:46:21.344806Z",
     "iopub.status.idle": "2022-07-30T11:46:21.366198Z",
     "shell.execute_reply": "2022-07-30T11:46:21.364925Z"
    },
    "papermill": {
     "duration": 0.037925,
     "end_time": "2022-07-30T11:46:21.368566",
     "exception": false,
     "start_time": "2022-07-30T11:46:21.330641",
     "status": "completed"
    },
    "tags": []
   },
   "outputs": [
    {
     "data": {
      "text/html": [
       "<div>\n",
       "<style scoped>\n",
       "    .dataframe tbody tr th:only-of-type {\n",
       "        vertical-align: middle;\n",
       "    }\n",
       "\n",
       "    .dataframe tbody tr th {\n",
       "        vertical-align: top;\n",
       "    }\n",
       "\n",
       "    .dataframe thead th {\n",
       "        text-align: right;\n",
       "    }\n",
       "</style>\n",
       "<table border=\"1\" class=\"dataframe\">\n",
       "  <thead>\n",
       "    <tr style=\"text-align: right;\">\n",
       "      <th></th>\n",
       "      <th>Loan_ID</th>\n",
       "      <th>Gender</th>\n",
       "      <th>Married</th>\n",
       "      <th>Dependents</th>\n",
       "      <th>Education</th>\n",
       "      <th>Self_Employed</th>\n",
       "      <th>ApplicantIncome</th>\n",
       "      <th>CoapplicantIncome</th>\n",
       "      <th>LoanAmount</th>\n",
       "      <th>Loan_Amount_Term</th>\n",
       "      <th>Credit_History</th>\n",
       "      <th>Property_Area</th>\n",
       "      <th>Loan_Status</th>\n",
       "    </tr>\n",
       "  </thead>\n",
       "  <tbody>\n",
       "    <tr>\n",
       "      <th>1</th>\n",
       "      <td>LP001003</td>\n",
       "      <td>Male</td>\n",
       "      <td>Yes</td>\n",
       "      <td>1</td>\n",
       "      <td>Graduate</td>\n",
       "      <td>No</td>\n",
       "      <td>4583</td>\n",
       "      <td>1508.0</td>\n",
       "      <td>128.0</td>\n",
       "      <td>360.0</td>\n",
       "      <td>1.0</td>\n",
       "      <td>Rural</td>\n",
       "      <td>0</td>\n",
       "    </tr>\n",
       "    <tr>\n",
       "      <th>2</th>\n",
       "      <td>LP001005</td>\n",
       "      <td>Male</td>\n",
       "      <td>Yes</td>\n",
       "      <td>0</td>\n",
       "      <td>Graduate</td>\n",
       "      <td>Yes</td>\n",
       "      <td>3000</td>\n",
       "      <td>0.0</td>\n",
       "      <td>66.0</td>\n",
       "      <td>360.0</td>\n",
       "      <td>1.0</td>\n",
       "      <td>Urban</td>\n",
       "      <td>1</td>\n",
       "    </tr>\n",
       "    <tr>\n",
       "      <th>3</th>\n",
       "      <td>LP001006</td>\n",
       "      <td>Male</td>\n",
       "      <td>Yes</td>\n",
       "      <td>0</td>\n",
       "      <td>Not Graduate</td>\n",
       "      <td>No</td>\n",
       "      <td>2583</td>\n",
       "      <td>2358.0</td>\n",
       "      <td>120.0</td>\n",
       "      <td>360.0</td>\n",
       "      <td>1.0</td>\n",
       "      <td>Urban</td>\n",
       "      <td>1</td>\n",
       "    </tr>\n",
       "    <tr>\n",
       "      <th>4</th>\n",
       "      <td>LP001008</td>\n",
       "      <td>Male</td>\n",
       "      <td>No</td>\n",
       "      <td>0</td>\n",
       "      <td>Graduate</td>\n",
       "      <td>No</td>\n",
       "      <td>6000</td>\n",
       "      <td>0.0</td>\n",
       "      <td>141.0</td>\n",
       "      <td>360.0</td>\n",
       "      <td>1.0</td>\n",
       "      <td>Urban</td>\n",
       "      <td>1</td>\n",
       "    </tr>\n",
       "    <tr>\n",
       "      <th>5</th>\n",
       "      <td>LP001011</td>\n",
       "      <td>Male</td>\n",
       "      <td>Yes</td>\n",
       "      <td>2</td>\n",
       "      <td>Graduate</td>\n",
       "      <td>Yes</td>\n",
       "      <td>5417</td>\n",
       "      <td>4196.0</td>\n",
       "      <td>267.0</td>\n",
       "      <td>360.0</td>\n",
       "      <td>1.0</td>\n",
       "      <td>Urban</td>\n",
       "      <td>1</td>\n",
       "    </tr>\n",
       "  </tbody>\n",
       "</table>\n",
       "</div>"
      ],
      "text/plain": [
       "    Loan_ID Gender Married Dependents     Education Self_Employed  \\\n",
       "1  LP001003   Male     Yes          1      Graduate            No   \n",
       "2  LP001005   Male     Yes          0      Graduate           Yes   \n",
       "3  LP001006   Male     Yes          0  Not Graduate            No   \n",
       "4  LP001008   Male      No          0      Graduate            No   \n",
       "5  LP001011   Male     Yes          2      Graduate           Yes   \n",
       "\n",
       "   ApplicantIncome  CoapplicantIncome  LoanAmount  Loan_Amount_Term  \\\n",
       "1             4583             1508.0       128.0             360.0   \n",
       "2             3000                0.0        66.0             360.0   \n",
       "3             2583             2358.0       120.0             360.0   \n",
       "4             6000                0.0       141.0             360.0   \n",
       "5             5417             4196.0       267.0             360.0   \n",
       "\n",
       "   Credit_History Property_Area  Loan_Status  \n",
       "1             1.0         Rural            0  \n",
       "2             1.0         Urban            1  \n",
       "3             1.0         Urban            1  \n",
       "4             1.0         Urban            1  \n",
       "5             1.0         Urban            1  "
      ]
     },
     "execution_count": 11,
     "metadata": {},
     "output_type": "execute_result"
    }
   ],
   "source": [
    "data.head()"
   ]
  },
  {
   "cell_type": "code",
   "execution_count": 12,
   "id": "9e4c2e8a",
   "metadata": {
    "execution": {
     "iopub.execute_input": "2022-07-30T11:46:21.397732Z",
     "iopub.status.busy": "2022-07-30T11:46:21.397020Z",
     "iopub.status.idle": "2022-07-30T11:46:21.405835Z",
     "shell.execute_reply": "2022-07-30T11:46:21.404874Z"
    },
    "papermill": {
     "duration": 0.026154,
     "end_time": "2022-07-30T11:46:21.408374",
     "exception": false,
     "start_time": "2022-07-30T11:46:21.382220",
     "status": "completed"
    },
    "tags": []
   },
   "outputs": [
    {
     "data": {
      "text/plain": [
       "0     274\n",
       "2      85\n",
       "1      80\n",
       "3+     41\n",
       "Name: Dependents, dtype: int64"
      ]
     },
     "execution_count": 12,
     "metadata": {},
     "output_type": "execute_result"
    }
   ],
   "source": [
    "data['Dependents'].value_counts()"
   ]
  },
  {
   "cell_type": "code",
   "execution_count": 13,
   "id": "45e712e5",
   "metadata": {
    "execution": {
     "iopub.execute_input": "2022-07-30T11:46:21.437324Z",
     "iopub.status.busy": "2022-07-30T11:46:21.436473Z",
     "iopub.status.idle": "2022-07-30T11:46:21.443786Z",
     "shell.execute_reply": "2022-07-30T11:46:21.442803Z"
    },
    "papermill": {
     "duration": 0.024601,
     "end_time": "2022-07-30T11:46:21.446517",
     "exception": false,
     "start_time": "2022-07-30T11:46:21.421916",
     "status": "completed"
    },
    "tags": []
   },
   "outputs": [],
   "source": [
    "data.replace({'Dependents': {'3+':4}},inplace = True)"
   ]
  },
  {
   "cell_type": "code",
   "execution_count": 14,
   "id": "02ba9eaf",
   "metadata": {
    "execution": {
     "iopub.execute_input": "2022-07-30T11:46:21.475003Z",
     "iopub.status.busy": "2022-07-30T11:46:21.474032Z",
     "iopub.status.idle": "2022-07-30T11:46:21.482502Z",
     "shell.execute_reply": "2022-07-30T11:46:21.481679Z"
    },
    "papermill": {
     "duration": 0.025361,
     "end_time": "2022-07-30T11:46:21.484875",
     "exception": false,
     "start_time": "2022-07-30T11:46:21.459514",
     "status": "completed"
    },
    "tags": []
   },
   "outputs": [
    {
     "data": {
      "text/plain": [
       "0    274\n",
       "2     85\n",
       "1     80\n",
       "4     41\n",
       "Name: Dependents, dtype: int64"
      ]
     },
     "execution_count": 14,
     "metadata": {},
     "output_type": "execute_result"
    }
   ],
   "source": [
    "data['Dependents'].value_counts()"
   ]
  },
  {
   "cell_type": "code",
   "execution_count": 15,
   "id": "3ed94a76",
   "metadata": {
    "execution": {
     "iopub.execute_input": "2022-07-30T11:46:21.513272Z",
     "iopub.status.busy": "2022-07-30T11:46:21.512875Z",
     "iopub.status.idle": "2022-07-30T11:46:21.534021Z",
     "shell.execute_reply": "2022-07-30T11:46:21.532897Z"
    },
    "papermill": {
     "duration": 0.038578,
     "end_time": "2022-07-30T11:46:21.536438",
     "exception": false,
     "start_time": "2022-07-30T11:46:21.497860",
     "status": "completed"
    },
    "tags": []
   },
   "outputs": [
    {
     "data": {
      "text/html": [
       "<div>\n",
       "<style scoped>\n",
       "    .dataframe tbody tr th:only-of-type {\n",
       "        vertical-align: middle;\n",
       "    }\n",
       "\n",
       "    .dataframe tbody tr th {\n",
       "        vertical-align: top;\n",
       "    }\n",
       "\n",
       "    .dataframe thead th {\n",
       "        text-align: right;\n",
       "    }\n",
       "</style>\n",
       "<table border=\"1\" class=\"dataframe\">\n",
       "  <thead>\n",
       "    <tr style=\"text-align: right;\">\n",
       "      <th></th>\n",
       "      <th>Loan_ID</th>\n",
       "      <th>Gender</th>\n",
       "      <th>Married</th>\n",
       "      <th>Dependents</th>\n",
       "      <th>Education</th>\n",
       "      <th>Self_Employed</th>\n",
       "      <th>ApplicantIncome</th>\n",
       "      <th>CoapplicantIncome</th>\n",
       "      <th>LoanAmount</th>\n",
       "      <th>Loan_Amount_Term</th>\n",
       "      <th>Credit_History</th>\n",
       "      <th>Property_Area</th>\n",
       "      <th>Loan_Status</th>\n",
       "    </tr>\n",
       "  </thead>\n",
       "  <tbody>\n",
       "    <tr>\n",
       "      <th>1</th>\n",
       "      <td>LP001003</td>\n",
       "      <td>Male</td>\n",
       "      <td>Yes</td>\n",
       "      <td>1</td>\n",
       "      <td>Graduate</td>\n",
       "      <td>No</td>\n",
       "      <td>4583</td>\n",
       "      <td>1508.0</td>\n",
       "      <td>128.0</td>\n",
       "      <td>360.0</td>\n",
       "      <td>1.0</td>\n",
       "      <td>Rural</td>\n",
       "      <td>0</td>\n",
       "    </tr>\n",
       "    <tr>\n",
       "      <th>2</th>\n",
       "      <td>LP001005</td>\n",
       "      <td>Male</td>\n",
       "      <td>Yes</td>\n",
       "      <td>0</td>\n",
       "      <td>Graduate</td>\n",
       "      <td>Yes</td>\n",
       "      <td>3000</td>\n",
       "      <td>0.0</td>\n",
       "      <td>66.0</td>\n",
       "      <td>360.0</td>\n",
       "      <td>1.0</td>\n",
       "      <td>Urban</td>\n",
       "      <td>1</td>\n",
       "    </tr>\n",
       "    <tr>\n",
       "      <th>3</th>\n",
       "      <td>LP001006</td>\n",
       "      <td>Male</td>\n",
       "      <td>Yes</td>\n",
       "      <td>0</td>\n",
       "      <td>Not Graduate</td>\n",
       "      <td>No</td>\n",
       "      <td>2583</td>\n",
       "      <td>2358.0</td>\n",
       "      <td>120.0</td>\n",
       "      <td>360.0</td>\n",
       "      <td>1.0</td>\n",
       "      <td>Urban</td>\n",
       "      <td>1</td>\n",
       "    </tr>\n",
       "    <tr>\n",
       "      <th>4</th>\n",
       "      <td>LP001008</td>\n",
       "      <td>Male</td>\n",
       "      <td>No</td>\n",
       "      <td>0</td>\n",
       "      <td>Graduate</td>\n",
       "      <td>No</td>\n",
       "      <td>6000</td>\n",
       "      <td>0.0</td>\n",
       "      <td>141.0</td>\n",
       "      <td>360.0</td>\n",
       "      <td>1.0</td>\n",
       "      <td>Urban</td>\n",
       "      <td>1</td>\n",
       "    </tr>\n",
       "    <tr>\n",
       "      <th>5</th>\n",
       "      <td>LP001011</td>\n",
       "      <td>Male</td>\n",
       "      <td>Yes</td>\n",
       "      <td>2</td>\n",
       "      <td>Graduate</td>\n",
       "      <td>Yes</td>\n",
       "      <td>5417</td>\n",
       "      <td>4196.0</td>\n",
       "      <td>267.0</td>\n",
       "      <td>360.0</td>\n",
       "      <td>1.0</td>\n",
       "      <td>Urban</td>\n",
       "      <td>1</td>\n",
       "    </tr>\n",
       "  </tbody>\n",
       "</table>\n",
       "</div>"
      ],
      "text/plain": [
       "    Loan_ID Gender Married Dependents     Education Self_Employed  \\\n",
       "1  LP001003   Male     Yes          1      Graduate            No   \n",
       "2  LP001005   Male     Yes          0      Graduate           Yes   \n",
       "3  LP001006   Male     Yes          0  Not Graduate            No   \n",
       "4  LP001008   Male      No          0      Graduate            No   \n",
       "5  LP001011   Male     Yes          2      Graduate           Yes   \n",
       "\n",
       "   ApplicantIncome  CoapplicantIncome  LoanAmount  Loan_Amount_Term  \\\n",
       "1             4583             1508.0       128.0             360.0   \n",
       "2             3000                0.0        66.0             360.0   \n",
       "3             2583             2358.0       120.0             360.0   \n",
       "4             6000                0.0       141.0             360.0   \n",
       "5             5417             4196.0       267.0             360.0   \n",
       "\n",
       "   Credit_History Property_Area  Loan_Status  \n",
       "1             1.0         Rural            0  \n",
       "2             1.0         Urban            1  \n",
       "3             1.0         Urban            1  \n",
       "4             1.0         Urban            1  \n",
       "5             1.0         Urban            1  "
      ]
     },
     "execution_count": 15,
     "metadata": {},
     "output_type": "execute_result"
    }
   ],
   "source": [
    "data.head()"
   ]
  },
  {
   "cell_type": "code",
   "execution_count": 16,
   "id": "a438130c",
   "metadata": {
    "execution": {
     "iopub.execute_input": "2022-07-30T11:46:21.566067Z",
     "iopub.status.busy": "2022-07-30T11:46:21.565651Z",
     "iopub.status.idle": "2022-07-30T11:46:21.758879Z",
     "shell.execute_reply": "2022-07-30T11:46:21.757545Z"
    },
    "papermill": {
     "duration": 0.211404,
     "end_time": "2022-07-30T11:46:21.761799",
     "exception": false,
     "start_time": "2022-07-30T11:46:21.550395",
     "status": "completed"
    },
    "tags": []
   },
   "outputs": [
    {
     "data": {
      "text/plain": [
       "<AxesSubplot:xlabel='Education', ylabel='count'>"
      ]
     },
     "execution_count": 16,
     "metadata": {},
     "output_type": "execute_result"
    },
    {
     "data": {
      "image/png": "[encoded data removed]",
      "text/plain": [
       "<Figure size 432x288 with 1 Axes>"
      ]
     },
     "metadata": {
      "needs_background": "light"
     },
     "output_type": "display_data"
    }
   ],
   "source": [
    "sns.countplot(data= data,x = 'Education',hue = 'Loan_Status')"
   ]
  },
  {
   "cell_type": "code",
   "execution_count": 17,
   "id": "c0eab22a",
   "metadata": {
    "execution": {
     "iopub.execute_input": "2022-07-30T11:46:21.792900Z",
     "iopub.status.busy": "2022-07-30T11:46:21.791712Z",
     "iopub.status.idle": "2022-07-30T11:46:21.988178Z",
     "shell.execute_reply": "2022-07-30T11:46:21.986728Z"
    },
    "papermill": {
     "duration": 0.214734,
     "end_time": "2022-07-30T11:46:21.990861",
     "exception": false,
     "start_time": "2022-07-30T11:46:21.776127",
     "status": "completed"
    },
    "tags": []
   },
   "outputs": [
    {
     "data": {
      "text/plain": [
       "<AxesSubplot:xlabel='Married', ylabel='count'>"
      ]
     },
     "execution_count": 17,
     "metadata": {},
     "output_type": "execute_result"
    },
    {
     "data": {
      "image/png": "[encoded data removed]",
      "text/plain": [
       "<Figure size 432x288 with 1 Axes>"
      ]
     },
     "metadata": {
      "needs_background": "light"
     },
     "output_type": "display_data"
    }
   ],
   "source": [
    "sns.countplot(data= data,x = 'Married',hue = 'Loan_Status')"
   ]
  },
  {
   "cell_type": "code",
   "execution_count": 18,
   "id": "bfcf2fc4",
   "metadata": {
    "execution": {
     "iopub.execute_input": "2022-07-30T11:46:22.022367Z",
     "iopub.status.busy": "2022-07-30T11:46:22.021886Z",
     "iopub.status.idle": "2022-07-30T11:46:22.251859Z",
     "shell.execute_reply": "2022-07-30T11:46:22.250875Z"
    },
    "papermill": {
     "duration": 0.24946,
     "end_time": "2022-07-30T11:46:22.254641",
     "exception": false,
     "start_time": "2022-07-30T11:46:22.005181",
     "status": "completed"
    },
    "tags": []
   },
   "outputs": [
    {
     "data": {
      "text/plain": [
       "<AxesSubplot:xlabel='Dependents', ylabel='count'>"
      ]
     },
     "execution_count": 18,
     "metadata": {},
     "output_type": "execute_result"
    },
    {
     "data": {
      "image/png": "[encoded data removed]",
      "text/plain": [
       "<Figure size 432x288 with 1 Axes>"
      ]
     },
     "metadata": {
      "needs_background": "light"
     },
     "output_type": "display_data"
    }
   ],
   "source": [
    "sns.countplot(data= data,x = 'Dependents',hue = 'Loan_Status')"
   ]
  },
  {
   "cell_type": "code",
   "execution_count": 19,
   "id": "9fd59d8d",
   "metadata": {
    "execution": {
     "iopub.execute_input": "2022-07-30T11:46:22.286905Z",
     "iopub.status.busy": "2022-07-30T11:46:22.286076Z",
     "iopub.status.idle": "2022-07-30T11:46:22.488657Z",
     "shell.execute_reply": "2022-07-30T11:46:22.487435Z"
    },
    "papermill": {
     "duration": 0.222074,
     "end_time": "2022-07-30T11:46:22.491358",
     "exception": false,
     "start_time": "2022-07-30T11:46:22.269284",
     "status": "completed"
    },
    "tags": []
   },
   "outputs": [
    {
     "data": {
      "text/plain": [
       "<AxesSubplot:xlabel='Self_Employed', ylabel='count'>"
      ]
     },
     "execution_count": 19,
     "metadata": {},
     "output_type": "execute_result"
    },
    {
     "data": {
      "image/png": "[encoded data removed]",
      "text/plain": [
       "<Figure size 432x288 with 1 Axes>"
      ]
     },
     "metadata": {
      "needs_background": "light"
     },
     "output_type": "display_data"
    }
   ],
   "source": [
    "sns.countplot(data= data,x = 'Self_Employed',hue = 'Loan_Status')"
   ]
  },
  {
   "cell_type": "code",
   "execution_count": 20,
   "id": "0a17de19",
   "metadata": {
    "execution": {
     "iopub.execute_input": "2022-07-30T11:46:22.524860Z",
     "iopub.status.busy": "2022-07-30T11:46:22.523583Z",
     "iopub.status.idle": "2022-07-30T11:46:22.723282Z",
     "shell.execute_reply": "2022-07-30T11:46:22.722138Z"
    },
    "papermill": {
     "duration": 0.219438,
     "end_time": "2022-07-30T11:46:22.725867",
     "exception": false,
     "start_time": "2022-07-30T11:46:22.506429",
     "status": "completed"
    },
    "tags": []
   },
   "outputs": [
    {
     "data": {
      "text/plain": [
       "<AxesSubplot:xlabel='Gender', ylabel='count'>"
      ]
     },
     "execution_count": 20,
     "metadata": {},
     "output_type": "execute_result"
    },
    {
     "data": {
      "image/png": "[encoded data removed]",
      "text/plain": [
       "<Figure size 432x288 with 1 Axes>"
      ]
     },
     "metadata": {
      "needs_background": "light"
     },
     "output_type": "display_data"
    }
   ],
   "source": [
    "sns.countplot(data = data,x = 'Gender',hue = 'Loan_Status')"
   ]
  },
  {
   "cell_type": "code",
   "execution_count": 21,
   "id": "415c6c17",
   "metadata": {
    "execution": {
     "iopub.execute_input": "2022-07-30T11:46:22.759439Z",
     "iopub.status.busy": "2022-07-30T11:46:22.758408Z",
     "iopub.status.idle": "2022-07-30T11:46:22.982513Z",
     "shell.execute_reply": "2022-07-30T11:46:22.981250Z"
    },
    "papermill": {
     "duration": 0.244207,
     "end_time": "2022-07-30T11:46:22.985566",
     "exception": false,
     "start_time": "2022-07-30T11:46:22.741359",
     "status": "completed"
    },
    "tags": []
   },
   "outputs": [
    {
     "data": {
      "text/plain": [
       "<AxesSubplot:xlabel='Property_Area', ylabel='count'>"
      ]
     },
     "execution_count": 21,
     "metadata": {},
     "output_type": "execute_result"
    },
    {
     "data": {
      "image/png": "[encoded data removed]",
      "text/plain": [
       "<Figure size 432x288 with 1 Axes>"
      ]
     },
     "metadata": {
      "needs_background": "light"
     },
     "output_type": "display_data"
    }
   ],
   "source": [
    "sns.countplot(data= data,x = 'Property_Area',hue = 'Loan_Status')"
   ]
  },
  {
   "cell_type": "code",
   "execution_count": 22,
   "id": "9f5ab9c6",
   "metadata": {
    "execution": {
     "iopub.execute_input": "2022-07-30T11:46:23.019996Z",
     "iopub.status.busy": "2022-07-30T11:46:23.018935Z",
     "iopub.status.idle": "2022-07-30T11:46:23.225393Z",
     "shell.execute_reply": "2022-07-30T11:46:23.224034Z"
    },
    "papermill": {
     "duration": 0.226737,
     "end_time": "2022-07-30T11:46:23.228094",
     "exception": false,
     "start_time": "2022-07-30T11:46:23.001357",
     "status": "completed"
    },
    "tags": []
   },
   "outputs": [
    {
     "data": {
      "text/plain": [
       "<AxesSubplot:xlabel='Credit_History', ylabel='count'>"
      ]
     },
     "execution_count": 22,
     "metadata": {},
     "output_type": "execute_result"
    },
    {
     "data": {
      "image/png": "[encoded data removed]",
      "text/plain": [
       "<Figure size 432x288 with 1 Axes>"
      ]
     },
     "metadata": {
      "needs_background": "light"
     },
     "output_type": "display_data"
    }
   ],
   "source": [
    "sns.countplot(data= data,x = 'Credit_History',hue = 'Loan_Status')"
   ]
  },
  {
   "cell_type": "code",
   "execution_count": 23,
   "id": "18505b8e",
   "metadata": {
    "execution": {
     "iopub.execute_input": "2022-07-30T11:46:23.262026Z",
     "iopub.status.busy": "2022-07-30T11:46:23.261595Z",
     "iopub.status.idle": "2022-07-30T11:46:23.270042Z",
     "shell.execute_reply": "2022-07-30T11:46:23.268754Z"
    },
    "papermill": {
     "duration": 0.028541,
     "end_time": "2022-07-30T11:46:23.272658",
     "exception": false,
     "start_time": "2022-07-30T11:46:23.244117",
     "status": "completed"
    },
    "tags": []
   },
   "outputs": [],
   "source": [
    "data.replace({'Married':{'No':0,'Yes': 1}},inplace = True)"
   ]
  },
  {
   "cell_type": "code",
   "execution_count": 24,
   "id": "9d6f6eed",
   "metadata": {
    "execution": {
     "iopub.execute_input": "2022-07-30T11:46:23.307461Z",
     "iopub.status.busy": "2022-07-30T11:46:23.306586Z",
     "iopub.status.idle": "2022-07-30T11:46:23.329075Z",
     "shell.execute_reply": "2022-07-30T11:46:23.327660Z"
    },
    "papermill": {
     "duration": 0.043292,
     "end_time": "2022-07-30T11:46:23.331883",
     "exception": false,
     "start_time": "2022-07-30T11:46:23.288591",
     "status": "completed"
    },
    "tags": []
   },
   "outputs": [
    {
     "data": {
      "text/html": [
       "<div>\n",
       "<style scoped>\n",
       "    .dataframe tbody tr th:only-of-type {\n",
       "        vertical-align: middle;\n",
       "    }\n",
       "\n",
       "    .dataframe tbody tr th {\n",
       "        vertical-align: top;\n",
       "    }\n",
       "\n",
       "    .dataframe thead th {\n",
       "        text-align: right;\n",
       "    }\n",
       "</style>\n",
       "<table border=\"1\" class=\"dataframe\">\n",
       "  <thead>\n",
       "    <tr style=\"text-align: right;\">\n",
       "      <th></th>\n",
       "      <th>Loan_ID</th>\n",
       "      <th>Gender</th>\n",
       "      <th>Married</th>\n",
       "      <th>Dependents</th>\n",
       "      <th>Education</th>\n",
       "      <th>Self_Employed</th>\n",
       "      <th>ApplicantIncome</th>\n",
       "      <th>CoapplicantIncome</th>\n",
       "      <th>LoanAmount</th>\n",
       "      <th>Loan_Amount_Term</th>\n",
       "      <th>Credit_History</th>\n",
       "      <th>Property_Area</th>\n",
       "      <th>Loan_Status</th>\n",
       "    </tr>\n",
       "  </thead>\n",
       "  <tbody>\n",
       "    <tr>\n",
       "      <th>1</th>\n",
       "      <td>LP001003</td>\n",
       "      <td>Male</td>\n",
       "      <td>1</td>\n",
       "      <td>1</td>\n",
       "      <td>Graduate</td>\n",
       "      <td>No</td>\n",
       "      <td>4583</td>\n",
       "      <td>1508.0</td>\n",
       "      <td>128.0</td>\n",
       "      <td>360.0</td>\n",
       "      <td>1.0</td>\n",
       "      <td>Rural</td>\n",
       "      <td>0</td>\n",
       "    </tr>\n",
       "    <tr>\n",
       "      <th>2</th>\n",
       "      <td>LP001005</td>\n",
       "      <td>Male</td>\n",
       "      <td>1</td>\n",
       "      <td>0</td>\n",
       "      <td>Graduate</td>\n",
       "      <td>Yes</td>\n",
       "      <td>3000</td>\n",
       "      <td>0.0</td>\n",
       "      <td>66.0</td>\n",
       "      <td>360.0</td>\n",
       "      <td>1.0</td>\n",
       "      <td>Urban</td>\n",
       "      <td>1</td>\n",
       "    </tr>\n",
       "    <tr>\n",
       "      <th>3</th>\n",
       "      <td>LP001006</td>\n",
       "      <td>Male</td>\n",
       "      <td>1</td>\n",
       "      <td>0</td>\n",
       "      <td>Not Graduate</td>\n",
       "      <td>No</td>\n",
       "      <td>2583</td>\n",
       "      <td>2358.0</td>\n",
       "      <td>120.0</td>\n",
       "      <td>360.0</td>\n",
       "      <td>1.0</td>\n",
       "      <td>Urban</td>\n",
       "      <td>1</td>\n",
       "    </tr>\n",
       "    <tr>\n",
       "      <th>4</th>\n",
       "      <td>LP001008</td>\n",
       "      <td>Male</td>\n",
       "      <td>0</td>\n",
       "      <td>0</td>\n",
       "      <td>Graduate</td>\n",
       "      <td>No</td>\n",
       "      <td>6000</td>\n",
       "      <td>0.0</td>\n",
       "      <td>141.0</td>\n",
       "      <td>360.0</td>\n",
       "      <td>1.0</td>\n",
       "      <td>Urban</td>\n",
       "      <td>1</td>\n",
       "    </tr>\n",
       "    <tr>\n",
       "      <th>5</th>\n",
       "      <td>LP001011</td>\n",
       "      <td>Male</td>\n",
       "      <td>1</td>\n",
       "      <td>2</td>\n",
       "      <td>Graduate</td>\n",
       "      <td>Yes</td>\n",
       "      <td>5417</td>\n",
       "      <td>4196.0</td>\n",
       "      <td>267.0</td>\n",
       "      <td>360.0</td>\n",
       "      <td>1.0</td>\n",
       "      <td>Urban</td>\n",
       "      <td>1</td>\n",
       "    </tr>\n",
       "  </tbody>\n",
       "</table>\n",
       "</div>"
      ],
      "text/plain": [
       "    Loan_ID Gender  Married Dependents     Education Self_Employed  \\\n",
       "1  LP001003   Male        1          1      Graduate            No   \n",
       "2  LP001005   Male        1          0      Graduate           Yes   \n",
       "3  LP001006   Male        1          0  Not Graduate            No   \n",
       "4  LP001008   Male        0          0      Graduate            No   \n",
       "5  LP001011   Male        1          2      Graduate           Yes   \n",
       "\n",
       "   ApplicantIncome  CoapplicantIncome  LoanAmount  Loan_Amount_Term  \\\n",
       "1             4583             1508.0       128.0             360.0   \n",
       "2             3000                0.0        66.0             360.0   \n",
       "3             2583             2358.0       120.0             360.0   \n",
       "4             6000                0.0       141.0             360.0   \n",
       "5             5417             4196.0       267.0             360.0   \n",
       "\n",
       "   Credit_History Property_Area  Loan_Status  \n",
       "1             1.0         Rural            0  \n",
       "2             1.0         Urban            1  \n",
       "3             1.0         Urban            1  \n",
       "4             1.0         Urban            1  \n",
       "5             1.0         Urban            1  "
      ]
     },
     "execution_count": 24,
     "metadata": {},
     "output_type": "execute_result"
    }
   ],
   "source": [
    "data.head()"
   ]
  },
  {
   "cell_type": "code",
   "execution_count": 25,
   "id": "92109a15",
   "metadata": {
    "execution": {
     "iopub.execute_input": "2022-07-30T11:46:23.367069Z",
     "iopub.status.busy": "2022-07-30T11:46:23.366533Z",
     "iopub.status.idle": "2022-07-30T11:46:23.374455Z",
     "shell.execute_reply": "2022-07-30T11:46:23.373534Z"
    },
    "papermill": {
     "duration": 0.028874,
     "end_time": "2022-07-30T11:46:23.377272",
     "exception": false,
     "start_time": "2022-07-30T11:46:23.348398",
     "status": "completed"
    },
    "tags": []
   },
   "outputs": [],
   "source": [
    "data.replace({'Education':{'Not Graduate':0,'Graduate': 1}},inplace = True)"
   ]
  },
  {
   "cell_type": "code",
   "execution_count": 26,
   "id": "10d656ef",
   "metadata": {
    "execution": {
     "iopub.execute_input": "2022-07-30T11:46:23.413279Z",
     "iopub.status.busy": "2022-07-30T11:46:23.412100Z",
     "iopub.status.idle": "2022-07-30T11:46:23.420209Z",
     "shell.execute_reply": "2022-07-30T11:46:23.419373Z"
    },
    "papermill": {
     "duration": 0.028339,
     "end_time": "2022-07-30T11:46:23.422791",
     "exception": false,
     "start_time": "2022-07-30T11:46:23.394452",
     "status": "completed"
    },
    "tags": []
   },
   "outputs": [],
   "source": [
    "data.replace({'Self_Employed':{'No':0,'Yes': 1}},inplace = True)"
   ]
  },
  {
   "cell_type": "code",
   "execution_count": 27,
   "id": "cf1c4d22",
   "metadata": {
    "execution": {
     "iopub.execute_input": "2022-07-30T11:46:23.457878Z",
     "iopub.status.busy": "2022-07-30T11:46:23.457457Z",
     "iopub.status.idle": "2022-07-30T11:46:23.465467Z",
     "shell.execute_reply": "2022-07-30T11:46:23.464507Z"
    },
    "papermill": {
     "duration": 0.028797,
     "end_time": "2022-07-30T11:46:23.468089",
     "exception": false,
     "start_time": "2022-07-30T11:46:23.439292",
     "status": "completed"
    },
    "tags": []
   },
   "outputs": [],
   "source": [
    "data.replace({'Gender':{'Female':0,'Male': 1}},inplace = True)"
   ]
  },
  {
   "cell_type": "code",
   "execution_count": 28,
   "id": "95059c4d",
   "metadata": {
    "execution": {
     "iopub.execute_input": "2022-07-30T11:46:23.503344Z",
     "iopub.status.busy": "2022-07-30T11:46:23.502491Z",
     "iopub.status.idle": "2022-07-30T11:46:23.510786Z",
     "shell.execute_reply": "2022-07-30T11:46:23.509723Z"
    },
    "papermill": {
     "duration": 0.029666,
     "end_time": "2022-07-30T11:46:23.514016",
     "exception": false,
     "start_time": "2022-07-30T11:46:23.484350",
     "status": "completed"
    },
    "tags": []
   },
   "outputs": [],
   "source": [
    "data.replace({'Property_Area':{'Rural':0,'Urban': 1,'Semiurban':2}},inplace = True)"
   ]
  },
  {
   "cell_type": "code",
   "execution_count": 29,
   "id": "e0e0b39f",
   "metadata": {
    "execution": {
     "iopub.execute_input": "2022-07-30T11:46:23.549301Z",
     "iopub.status.busy": "2022-07-30T11:46:23.548486Z",
     "iopub.status.idle": "2022-07-30T11:46:23.568594Z",
     "shell.execute_reply": "2022-07-30T11:46:23.567357Z"
    },
    "papermill": {
     "duration": 0.040333,
     "end_time": "2022-07-30T11:46:23.571065",
     "exception": false,
     "start_time": "2022-07-30T11:46:23.530732",
     "status": "completed"
    },
    "tags": []
   },
   "outputs": [
    {
     "data": {
      "text/html": [
       "<div>\n",
       "<style scoped>\n",
       "    .dataframe tbody tr th:only-of-type {\n",
       "        vertical-align: middle;\n",
       "    }\n",
       "\n",
       "    .dataframe tbody tr th {\n",
       "        vertical-align: top;\n",
       "    }\n",
       "\n",
       "    .dataframe thead th {\n",
       "        text-align: right;\n",
       "    }\n",
       "</style>\n",
       "<table border=\"1\" class=\"dataframe\">\n",
       "  <thead>\n",
       "    <tr style=\"text-align: right;\">\n",
       "      <th></th>\n",
       "      <th>Loan_ID</th>\n",
       "      <th>Gender</th>\n",
       "      <th>Married</th>\n",
       "      <th>Dependents</th>\n",
       "      <th>Education</th>\n",
       "      <th>Self_Employed</th>\n",
       "      <th>ApplicantIncome</th>\n",
       "      <th>CoapplicantIncome</th>\n",
       "      <th>LoanAmount</th>\n",
       "      <th>Loan_Amount_Term</th>\n",
       "      <th>Credit_History</th>\n",
       "      <th>Property_Area</th>\n",
       "      <th>Loan_Status</th>\n",
       "    </tr>\n",
       "  </thead>\n",
       "  <tbody>\n",
       "    <tr>\n",
       "      <th>1</th>\n",
       "      <td>LP001003</td>\n",
       "      <td>1</td>\n",
       "      <td>1</td>\n",
       "      <td>1</td>\n",
       "      <td>1</td>\n",
       "      <td>0</td>\n",
       "      <td>4583</td>\n",
       "      <td>1508.0</td>\n",
       "      <td>128.0</td>\n",
       "      <td>360.0</td>\n",
       "      <td>1.0</td>\n",
       "      <td>0</td>\n",
       "      <td>0</td>\n",
       "    </tr>\n",
       "    <tr>\n",
       "      <th>2</th>\n",
       "      <td>LP001005</td>\n",
       "      <td>1</td>\n",
       "      <td>1</td>\n",
       "      <td>0</td>\n",
       "      <td>1</td>\n",
       "      <td>1</td>\n",
       "      <td>3000</td>\n",
       "      <td>0.0</td>\n",
       "      <td>66.0</td>\n",
       "      <td>360.0</td>\n",
       "      <td>1.0</td>\n",
       "      <td>1</td>\n",
       "      <td>1</td>\n",
       "    </tr>\n",
       "    <tr>\n",
       "      <th>3</th>\n",
       "      <td>LP001006</td>\n",
       "      <td>1</td>\n",
       "      <td>1</td>\n",
       "      <td>0</td>\n",
       "      <td>0</td>\n",
       "      <td>0</td>\n",
       "      <td>2583</td>\n",
       "      <td>2358.0</td>\n",
       "      <td>120.0</td>\n",
       "      <td>360.0</td>\n",
       "      <td>1.0</td>\n",
       "      <td>1</td>\n",
       "      <td>1</td>\n",
       "    </tr>\n",
       "    <tr>\n",
       "      <th>4</th>\n",
       "      <td>LP001008</td>\n",
       "      <td>1</td>\n",
       "      <td>0</td>\n",
       "      <td>0</td>\n",
       "      <td>1</td>\n",
       "      <td>0</td>\n",
       "      <td>6000</td>\n",
       "      <td>0.0</td>\n",
       "      <td>141.0</td>\n",
       "      <td>360.0</td>\n",
       "      <td>1.0</td>\n",
       "      <td>1</td>\n",
       "      <td>1</td>\n",
       "    </tr>\n",
       "    <tr>\n",
       "      <th>5</th>\n",
       "      <td>LP001011</td>\n",
       "      <td>1</td>\n",
       "      <td>1</td>\n",
       "      <td>2</td>\n",
       "      <td>1</td>\n",
       "      <td>1</td>\n",
       "      <td>5417</td>\n",
       "      <td>4196.0</td>\n",
       "      <td>267.0</td>\n",
       "      <td>360.0</td>\n",
       "      <td>1.0</td>\n",
       "      <td>1</td>\n",
       "      <td>1</td>\n",
       "    </tr>\n",
       "  </tbody>\n",
       "</table>\n",
       "</div>"
      ],
      "text/plain": [
       "    Loan_ID  Gender  Married Dependents  Education  Self_Employed  \\\n",
       "1  LP001003       1        1          1          1              0   \n",
       "2  LP001005       1        1          0          1              1   \n",
       "3  LP001006       1        1          0          0              0   \n",
       "4  LP001008       1        0          0          1              0   \n",
       "5  LP001011       1        1          2          1              1   \n",
       "\n",
       "   ApplicantIncome  CoapplicantIncome  LoanAmount  Loan_Amount_Term  \\\n",
       "1             4583             1508.0       128.0             360.0   \n",
       "2             3000                0.0        66.0             360.0   \n",
       "3             2583             2358.0       120.0             360.0   \n",
       "4             6000                0.0       141.0             360.0   \n",
       "5             5417             4196.0       267.0             360.0   \n",
       "\n",
       "   Credit_History  Property_Area  Loan_Status  \n",
       "1             1.0              0            0  \n",
       "2             1.0              1            1  \n",
       "3             1.0              1            1  \n",
       "4             1.0              1            1  \n",
       "5             1.0              1            1  "
      ]
     },
     "execution_count": 29,
     "metadata": {},
     "output_type": "execute_result"
    }
   ],
   "source": [
    "data.head()"
   ]
  },
  {
   "cell_type": "code",
   "execution_count": 30,
   "id": "f439db8f",
   "metadata": {
    "execution": {
     "iopub.execute_input": "2022-07-30T11:46:23.606911Z",
     "iopub.status.busy": "2022-07-30T11:46:23.605707Z",
     "iopub.status.idle": "2022-07-30T11:46:24.486091Z",
     "shell.execute_reply": "2022-07-30T11:46:24.484785Z"
    },
    "papermill": {
     "duration": 0.901385,
     "end_time": "2022-07-30T11:46:24.489153",
     "exception": false,
     "start_time": "2022-07-30T11:46:23.587768",
     "status": "completed"
    },
    "tags": []
   },
   "outputs": [
    {
     "data": {
      "text/plain": [
       "<AxesSubplot:>"
      ]
     },
     "execution_count": 30,
     "metadata": {},
     "output_type": "execute_result"
    },
    {
     "data": {
      "image/png": "[encoded data removed]",
      "text/plain": [
       "<Figure size 1080x432 with 2 Axes>"
      ]
     },
     "metadata": {
      "needs_background": "light"
     },
     "output_type": "display_data"
    }
   ],
   "source": [
    "plt.figure(figsize=(15,6))\n",
    "\n",
    "sns.heatmap(data.corr(),annot = True)"
   ]
  },
  {
   "cell_type": "code",
   "execution_count": 31,
   "id": "859fda59",
   "metadata": {
    "execution": {
     "iopub.execute_input": "2022-07-30T11:46:24.527679Z",
     "iopub.status.busy": "2022-07-30T11:46:24.527224Z",
     "iopub.status.idle": "2022-07-30T11:46:24.812546Z",
     "shell.execute_reply": "2022-07-30T11:46:24.811214Z"
    },
    "papermill": {
     "duration": 0.307622,
     "end_time": "2022-07-30T11:46:24.815101",
     "exception": false,
     "start_time": "2022-07-30T11:46:24.507479",
     "status": "completed"
    },
    "scrolled": true,
    "tags": []
   },
   "outputs": [
    {
     "data": {
      "text/plain": [
       "<AxesSubplot:xlabel='Loan_Amount_Term', ylabel='count'>"
      ]
     },
     "execution_count": 31,
     "metadata": {},
     "output_type": "execute_result"
    },
    {
     "data": {
      "image/png": "[encoded data removed]",
      "text/plain": [
       "<Figure size 432x288 with 1 Axes>"
      ]
     },
     "metadata": {
      "needs_background": "light"
     },
     "output_type": "display_data"
    }
   ],
   "source": [
    "sns.countplot(data= data,x = 'Loan_Amount_Term',hue = 'Loan_Status')"
   ]
  },
  {
   "cell_type": "code",
   "execution_count": 32,
   "id": "fbe6199a",
   "metadata": {
    "execution": {
     "iopub.execute_input": "2022-07-30T11:46:24.856220Z",
     "iopub.status.busy": "2022-07-30T11:46:24.855301Z",
     "iopub.status.idle": "2022-07-30T11:46:24.863490Z",
     "shell.execute_reply": "2022-07-30T11:46:24.862025Z"
    },
    "papermill": {
     "duration": 0.032217,
     "end_time": "2022-07-30T11:46:24.865997",
     "exception": false,
     "start_time": "2022-07-30T11:46:24.833780",
     "status": "completed"
    },
    "tags": []
   },
   "outputs": [],
   "source": [
    "X = data.drop(columns = ['Loan_Status','Loan_ID'],axis =1)\n",
    "y = data['Loan_Status']"
   ]
  },
  {
   "cell_type": "code",
   "execution_count": 33,
   "id": "89ddb36c",
   "metadata": {
    "execution": {
     "iopub.execute_input": "2022-07-30T11:46:24.906404Z",
     "iopub.status.busy": "2022-07-30T11:46:24.905337Z",
     "iopub.status.idle": "2022-07-30T11:46:25.138153Z",
     "shell.execute_reply": "2022-07-30T11:46:25.136984Z"
    },
    "papermill": {
     "duration": 0.256296,
     "end_time": "2022-07-30T11:46:25.141131",
     "exception": false,
     "start_time": "2022-07-30T11:46:24.884835",
     "status": "completed"
    },
    "tags": []
   },
   "outputs": [],
   "source": [
    "from sklearn.model_selection import train_test_split"
   ]
  },
  {
   "cell_type": "code",
   "execution_count": 34,
   "id": "2273eb1c",
   "metadata": {
    "execution": {
     "iopub.execute_input": "2022-07-30T11:46:25.180606Z",
     "iopub.status.busy": "2022-07-30T11:46:25.180162Z",
     "iopub.status.idle": "2022-07-30T11:46:25.190344Z",
     "shell.execute_reply": "2022-07-30T11:46:25.189034Z"
    },
    "papermill": {
     "duration": 0.032963,
     "end_time": "2022-07-30T11:46:25.193171",
     "exception": false,
     "start_time": "2022-07-30T11:46:25.160208",
     "status": "completed"
    },
    "tags": []
   },
   "outputs": [],
   "source": [
    "X_train, X_test, y_train, y_test = train_test_split(X, y, test_size=0.33, random_state=42)"
   ]
  },
  {
   "cell_type": "code",
   "execution_count": 35,
   "id": "d0706e7b",
   "metadata": {
    "execution": {
     "iopub.execute_input": "2022-07-30T11:46:25.234704Z",
     "iopub.status.busy": "2022-07-30T11:46:25.233693Z",
     "iopub.status.idle": "2022-07-30T11:46:25.321363Z",
     "shell.execute_reply": "2022-07-30T11:46:25.320057Z"
    },
    "papermill": {
     "duration": 0.111833,
     "end_time": "2022-07-30T11:46:25.324347",
     "exception": false,
     "start_time": "2022-07-30T11:46:25.212514",
     "status": "completed"
    },
    "tags": []
   },
   "outputs": [],
   "source": [
    "from sklearn.linear_model import LogisticRegression"
   ]
  },
  {
   "cell_type": "code",
   "execution_count": 36,
   "id": "f21db11e",
   "metadata": {
    "execution": {
     "iopub.execute_input": "2022-07-30T11:46:25.364418Z",
     "iopub.status.busy": "2022-07-30T11:46:25.363980Z",
     "iopub.status.idle": "2022-07-30T11:46:25.413800Z",
     "shell.execute_reply": "2022-07-30T11:46:25.412032Z"
    },
    "papermill": {
     "duration": 0.073596,
     "end_time": "2022-07-30T11:46:25.416518",
     "exception": false,
     "start_time": "2022-07-30T11:46:25.342922",
     "status": "completed"
    },
    "tags": []
   },
   "outputs": [
    {
     "name": "stderr",
     "output_type": "stream",
     "text": [
      "/opt/conda/lib/python3.7/site-packages/sklearn/linear_model/_logistic.py:818: ConvergenceWarning: lbfgs failed to converge (status=1):\n",
      "STOP: TOTAL NO. of ITERATIONS REACHED LIMIT.\n",
      "\n",
      "Increase the number of iterations (max_iter) or scale the data as shown in:\n",
      "    https://scikit-learn.org/stable/modules/preprocessing.html\n",
      "Please also refer to the documentation for alternative solver options:\n",
      "    https://scikit-learn.org/stable/modules/linear_model.html#logistic-regression\n",
      "  extra_warning_msg=_LOGISTIC_SOLVER_CONVERGENCE_MSG,\n"
     ]
    },
    {
     "data": {
      "text/plain": [
       "array([1, 1, 1, 0, 1, 0, 1, 1, 1, 1, 1, 1, 1, 1, 1, 1, 0, 0, 1, 1, 1, 1,\n",
       "       1, 1, 1, 1, 1, 0, 1, 1, 1, 1, 1, 1, 1, 1, 1, 1, 1, 0, 1, 1, 1, 1,\n",
       "       1, 0, 1, 1, 1, 0, 0, 1, 1, 1, 1, 1, 1, 1, 1, 1, 1, 1, 1, 0, 1, 1,\n",
       "       1, 1, 1, 1, 0, 1, 1, 1, 1, 1, 1, 1, 1, 1, 1, 1, 1, 1, 1, 1, 1, 1,\n",
       "       1, 1, 0, 1, 1, 1, 1, 1, 1, 1, 1, 1, 1, 1, 0, 1, 1, 1, 1, 1, 1, 1,\n",
       "       1, 1, 1, 1, 1, 1, 1, 0, 1, 1, 1, 1, 1, 1, 1, 0, 1, 1, 1, 0, 1, 1,\n",
       "       1, 1, 1, 1, 1, 1, 1, 1, 0, 1, 1, 1, 1, 1, 1, 1, 1, 1, 1, 1, 0, 1,\n",
       "       1, 1, 1, 1, 1])"
      ]
     },
     "execution_count": 36,
     "metadata": {},
     "output_type": "execute_result"
    }
   ],
   "source": [
    "lm = LogisticRegression()\n",
    "\n",
    "lm.fit(X_train,y_train)\n",
    "predictions = lm.predict(X_test)\n",
    "predictions"
   ]
  },
  {
   "cell_type": "code",
   "execution_count": 37,
   "id": "bc360ea4",
   "metadata": {
    "execution": {
     "iopub.execute_input": "2022-07-30T11:46:25.457594Z",
     "iopub.status.busy": "2022-07-30T11:46:25.456956Z",
     "iopub.status.idle": "2022-07-30T11:46:25.463327Z",
     "shell.execute_reply": "2022-07-30T11:46:25.462414Z"
    },
    "papermill": {
     "duration": 0.030712,
     "end_time": "2022-07-30T11:46:25.465915",
     "exception": false,
     "start_time": "2022-07-30T11:46:25.435203",
     "status": "completed"
    },
    "tags": []
   },
   "outputs": [],
   "source": [
    "from sklearn.metrics import confusion_matrix,classification_report,accuracy_score"
   ]
  },
  {
   "cell_type": "code",
   "execution_count": 38,
   "id": "8bf5fb6a",
   "metadata": {
    "execution": {
     "iopub.execute_input": "2022-07-30T11:46:25.507307Z",
     "iopub.status.busy": "2022-07-30T11:46:25.506555Z",
     "iopub.status.idle": "2022-07-30T11:46:25.515806Z",
     "shell.execute_reply": "2022-07-30T11:46:25.514747Z"
    },
    "papermill": {
     "duration": 0.034707,
     "end_time": "2022-07-30T11:46:25.520153",
     "exception": false,
     "start_time": "2022-07-30T11:46:25.485446",
     "status": "completed"
    },
    "tags": []
   },
   "outputs": [
    {
     "name": "stdout",
     "output_type": "stream",
     "text": [
      "[[ 17  30]\n",
      " [  1 111]]\n"
     ]
    }
   ],
   "source": [
    "print(confusion_matrix(y_test,predictions))"
   ]
  },
  {
   "cell_type": "code",
   "execution_count": 39,
   "id": "db74ed88",
   "metadata": {
    "execution": {
     "iopub.execute_input": "2022-07-30T11:46:25.565319Z",
     "iopub.status.busy": "2022-07-30T11:46:25.564363Z",
     "iopub.status.idle": "2022-07-30T11:46:25.576294Z",
     "shell.execute_reply": "2022-07-30T11:46:25.574414Z"
    },
    "papermill": {
     "duration": 0.038761,
     "end_time": "2022-07-30T11:46:25.578766",
     "exception": false,
     "start_time": "2022-07-30T11:46:25.540005",
     "status": "completed"
    },
    "tags": []
   },
   "outputs": [
    {
     "name": "stdout",
     "output_type": "stream",
     "text": [
      "              precision    recall  f1-score   support\n",
      "\n",
      "           0       0.94      0.36      0.52        47\n",
      "           1       0.79      0.99      0.88       112\n",
      "\n",
      "    accuracy                           0.81       159\n",
      "   macro avg       0.87      0.68      0.70       159\n",
      "weighted avg       0.83      0.81      0.77       159\n",
      "\n"
     ]
    }
   ],
   "source": [
    "print(classification_report(y_test,predictions))"
   ]
  },
  {
   "cell_type": "code",
   "execution_count": 40,
   "id": "69318b6d",
   "metadata": {
    "execution": {
     "iopub.execute_input": "2022-07-30T11:46:25.620092Z",
     "iopub.status.busy": "2022-07-30T11:46:25.618966Z",
     "iopub.status.idle": "2022-07-30T11:46:25.627093Z",
     "shell.execute_reply": "2022-07-30T11:46:25.626188Z"
    },
    "papermill": {
     "duration": 0.031391,
     "end_time": "2022-07-30T11:46:25.629302",
     "exception": false,
     "start_time": "2022-07-30T11:46:25.597911",
     "status": "completed"
    },
    "tags": []
   },
   "outputs": [
    {
     "data": {
      "text/plain": [
       "0.8050314465408805"
      ]
     },
     "execution_count": 40,
     "metadata": {},
     "output_type": "execute_result"
    }
   ],
   "source": [
    "accuracy_score(y_test,predictions)"
   ]
  }
 ],
 "metadata": {
  "kernelspec": {
   "display_name": "Python 3",
   "language": "python",
   "name": "python3"
  },
  "language_info": {
   "codemirror_mode": {
    "name": "ipython",
    "version": 3
   },
   "file_extension": ".py",
   "mimetype": "text/x-python",
   "name": "python",
   "nbconvert_exporter": "python",
   "pygments_lexer": "ipython3",
   "version": "3.7.12"
  },
  "papermill": {
   "default_parameters": {},
   "duration": 18.372381,
   "end_time": "2022-07-30T11:46:26.471934",
   "environment_variables": {},
   "exception": null,
   "input_path": "__notebook__.ipynb",
   "output_path": "__notebook__.ipynb",
   "parameters": {},
   "start_time": "2022-07-30T11:46:08.099553",
   "version": "2.3.4"
  }
 },
 "nbformat": 4,
 "nbformat_minor": 5
}
